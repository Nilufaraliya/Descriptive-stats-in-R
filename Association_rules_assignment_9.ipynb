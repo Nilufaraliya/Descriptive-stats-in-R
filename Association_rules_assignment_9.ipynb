{
  "cells": [
    {
      "cell_type": "markdown",
      "metadata": {
        "id": "view-in-github",
        "colab_type": "text"
      },
      "source": [
        "<a href=\"https://colab.research.google.com/github/Nilufaraliya/Descriptive-stats-in-R/blob/main/Association_rules_assignment_9.ipynb\" target=\"_parent\"><img src=\"https://colab.research.google.com/assets/colab-badge.svg\" alt=\"Open In Colab\"/></a>"
      ]
    },
    {
      "cell_type": "code",
      "execution_count": null,
      "id": "c534f605",
      "metadata": {
        "id": "c534f605",
        "outputId": "d95955d7-7aa1-4514-afbc-8361f97d32e2"
      },
      "outputs": [
        {
          "name": "stdout",
          "output_type": "stream",
          "text": [
            "Collecting mlxtend\n",
            "  Downloading mlxtend-0.21.0-py2.py3-none-any.whl (1.3 MB)\n",
            "Requirement already satisfied: matplotlib>=3.0.0 in c:\\anaconda\\lib\\site-packages (from mlxtend) (3.5.1)\n",
            "Requirement already satisfied: scipy>=1.2.1 in c:\\anaconda\\lib\\site-packages (from mlxtend) (1.7.3)\n",
            "Collecting scikit-learn>=1.0.2\n",
            "  Downloading scikit_learn-1.1.2-cp39-cp39-win_amd64.whl (7.4 MB)\n",
            "Requirement already satisfied: pandas>=0.24.2 in c:\\anaconda\\lib\\site-packages (from mlxtend) (1.4.2)\n",
            "Requirement already satisfied: setuptools in c:\\anaconda\\lib\\site-packages (from mlxtend) (61.2.0)\n",
            "Requirement already satisfied: joblib>=0.13.2 in c:\\anaconda\\lib\\site-packages (from mlxtend) (1.0.1)\n",
            "Requirement already satisfied: numpy>=1.16.2 in c:\\anaconda\\lib\\site-packages (from mlxtend) (1.21.5)\n",
            "Requirement already satisfied: pyparsing>=2.2.1 in c:\\anaconda\\lib\\site-packages (from matplotlib>=3.0.0->mlxtend) (3.0.4)\n",
            "Requirement already satisfied: packaging>=20.0 in c:\\anaconda\\lib\\site-packages (from matplotlib>=3.0.0->mlxtend) (21.3)\n",
            "Requirement already satisfied: cycler>=0.10 in c:\\anaconda\\lib\\site-packages (from matplotlib>=3.0.0->mlxtend) (0.11.0)\n",
            "Requirement already satisfied: python-dateutil>=2.7 in c:\\anaconda\\lib\\site-packages (from matplotlib>=3.0.0->mlxtend) (2.8.2)\n",
            "Requirement already satisfied: fonttools>=4.22.0 in c:\\anaconda\\lib\\site-packages (from matplotlib>=3.0.0->mlxtend) (4.25.0)\n",
            "Requirement already satisfied: kiwisolver>=1.0.1 in c:\\anaconda\\lib\\site-packages (from matplotlib>=3.0.0->mlxtend) (1.3.2)\n",
            "Requirement already satisfied: pillow>=6.2.0 in c:\\anaconda\\lib\\site-packages (from matplotlib>=3.0.0->mlxtend) (9.0.1)\n",
            "Requirement already satisfied: pytz>=2020.1 in c:\\anaconda\\lib\\site-packages (from pandas>=0.24.2->mlxtend) (2021.3)\n",
            "Requirement already satisfied: six>=1.5 in c:\\anaconda\\lib\\site-packages (from python-dateutil>=2.7->matplotlib>=3.0.0->mlxtend) (1.16.0)\n",
            "Requirement already satisfied: threadpoolctl>=2.0.0 in c:\\anaconda\\lib\\site-packages (from scikit-learn>=1.0.2->mlxtend) (2.2.0)\n",
            "Installing collected packages: scikit-learn, mlxtend\n",
            "  Attempting uninstall: scikit-learn\n",
            "    Found existing installation: scikit-learn 0.24.2\n",
            "    Uninstalling scikit-learn-0.24.2:\n",
            "      Successfully uninstalled scikit-learn-0.24.2\n",
            "Successfully installed mlxtend-0.21.0 scikit-learn-1.1.2\n"
          ]
        },
        {
          "name": "stderr",
          "output_type": "stream",
          "text": [
            "ERROR: pip's dependency resolver does not currently take into account all the packages that are installed. This behaviour is the source of the following dependency conflicts.\n",
            "ppscore 1.2.0 requires scikit-learn<1.0.0,>=0.20.2, but you have scikit-learn 1.1.2 which is incompatible.\n"
          ]
        }
      ],
      "source": [
        "!pip install mlxtend"
      ]
    },
    {
      "cell_type": "code",
      "execution_count": null,
      "id": "991d9a49",
      "metadata": {
        "id": "991d9a49"
      },
      "outputs": [],
      "source": [
        "import pandas as pd\n",
        "import numpy as np\n",
        "import matplotlib.pyplot as plt\n",
        "import seaborn as sns\n",
        "from mlxtend.preprocessing import TransactionEncoder\n",
        "from mlxtend.frequent_patterns import apriori\n",
        "from mlxtend.frequent_patterns import fpgrowth\n",
        "from mlxtend.frequent_patterns import association_rules"
      ]
    },
    {
      "cell_type": "code",
      "execution_count": null,
      "id": "71736b04",
      "metadata": {
        "id": "71736b04",
        "outputId": "b9c2a2f4-c5f0-438f-db84-be76fb691554"
      },
      "outputs": [
        {
          "data": {
            "text/html": [
              "<div>\n",
              "<style scoped>\n",
              "    .dataframe tbody tr th:only-of-type {\n",
              "        vertical-align: middle;\n",
              "    }\n",
              "\n",
              "    .dataframe tbody tr th {\n",
              "        vertical-align: top;\n",
              "    }\n",
              "\n",
              "    .dataframe thead th {\n",
              "        text-align: right;\n",
              "    }\n",
              "</style>\n",
              "<table border=\"1\" class=\"dataframe\">\n",
              "  <thead>\n",
              "    <tr style=\"text-align: right;\">\n",
              "      <th></th>\n",
              "      <th>ChildBks</th>\n",
              "      <th>YouthBks</th>\n",
              "      <th>CookBks</th>\n",
              "      <th>DoItYBks</th>\n",
              "      <th>RefBks</th>\n",
              "      <th>ArtBks</th>\n",
              "      <th>GeogBks</th>\n",
              "      <th>ItalCook</th>\n",
              "      <th>ItalAtlas</th>\n",
              "      <th>ItalArt</th>\n",
              "      <th>Florence</th>\n",
              "    </tr>\n",
              "  </thead>\n",
              "  <tbody>\n",
              "    <tr>\n",
              "      <th>0</th>\n",
              "      <td>0</td>\n",
              "      <td>1</td>\n",
              "      <td>0</td>\n",
              "      <td>1</td>\n",
              "      <td>0</td>\n",
              "      <td>0</td>\n",
              "      <td>1</td>\n",
              "      <td>0</td>\n",
              "      <td>0</td>\n",
              "      <td>0</td>\n",
              "      <td>0</td>\n",
              "    </tr>\n",
              "    <tr>\n",
              "      <th>1</th>\n",
              "      <td>1</td>\n",
              "      <td>0</td>\n",
              "      <td>0</td>\n",
              "      <td>0</td>\n",
              "      <td>0</td>\n",
              "      <td>0</td>\n",
              "      <td>0</td>\n",
              "      <td>0</td>\n",
              "      <td>0</td>\n",
              "      <td>0</td>\n",
              "      <td>0</td>\n",
              "    </tr>\n",
              "    <tr>\n",
              "      <th>2</th>\n",
              "      <td>0</td>\n",
              "      <td>0</td>\n",
              "      <td>0</td>\n",
              "      <td>0</td>\n",
              "      <td>0</td>\n",
              "      <td>0</td>\n",
              "      <td>0</td>\n",
              "      <td>0</td>\n",
              "      <td>0</td>\n",
              "      <td>0</td>\n",
              "      <td>0</td>\n",
              "    </tr>\n",
              "    <tr>\n",
              "      <th>3</th>\n",
              "      <td>1</td>\n",
              "      <td>1</td>\n",
              "      <td>1</td>\n",
              "      <td>0</td>\n",
              "      <td>1</td>\n",
              "      <td>0</td>\n",
              "      <td>1</td>\n",
              "      <td>0</td>\n",
              "      <td>0</td>\n",
              "      <td>0</td>\n",
              "      <td>0</td>\n",
              "    </tr>\n",
              "    <tr>\n",
              "      <th>4</th>\n",
              "      <td>0</td>\n",
              "      <td>0</td>\n",
              "      <td>1</td>\n",
              "      <td>0</td>\n",
              "      <td>0</td>\n",
              "      <td>0</td>\n",
              "      <td>1</td>\n",
              "      <td>0</td>\n",
              "      <td>0</td>\n",
              "      <td>0</td>\n",
              "      <td>0</td>\n",
              "    </tr>\n",
              "  </tbody>\n",
              "</table>\n",
              "</div>"
            ],
            "text/plain": [
              "   ChildBks  YouthBks  CookBks  DoItYBks  RefBks  ArtBks  GeogBks  ItalCook  \\\n",
              "0         0         1        0         1       0       0        1         0   \n",
              "1         1         0        0         0       0       0        0         0   \n",
              "2         0         0        0         0       0       0        0         0   \n",
              "3         1         1        1         0       1       0        1         0   \n",
              "4         0         0        1         0       0       0        1         0   \n",
              "\n",
              "   ItalAtlas  ItalArt  Florence  \n",
              "0          0        0         0  \n",
              "1          0        0         0  \n",
              "2          0        0         0  \n",
              "3          0        0         0  \n",
              "4          0        0         0  "
            ]
          },
          "execution_count": 4,
          "metadata": {},
          "output_type": "execute_result"
        }
      ],
      "source": [
        "book=pd.read_csv(\"https://excelr.s3.nl-ams.scw.cloud/DataScience-Assignments/Assignments/association%20rules/book.csv\")\n",
        "book.head()"
      ]
    },
    {
      "cell_type": "code",
      "execution_count": null,
      "id": "090213f1",
      "metadata": {
        "id": "090213f1",
        "outputId": "acccf5b5-5766-4d07-c50f-5a6239c296bc"
      },
      "outputs": [
        {
          "data": {
            "text/plain": [
              "(2000, 11)"
            ]
          },
          "execution_count": 5,
          "metadata": {},
          "output_type": "execute_result"
        }
      ],
      "source": [
        "book.shape"
      ]
    },
    {
      "cell_type": "markdown",
      "id": "042d9831",
      "metadata": {
        "id": "042d9831"
      },
      "source": [
        "# Aprori Algorithm"
      ]
    },
    {
      "cell_type": "code",
      "execution_count": null,
      "id": "a874387a",
      "metadata": {
        "id": "a874387a",
        "outputId": "dca50deb-3e0a-4eed-eea8-4c9c60270948"
      },
      "outputs": [
        {
          "name": "stderr",
          "output_type": "stream",
          "text": [
            "C:\\Anaconda\\lib\\site-packages\\mlxtend\\frequent_patterns\\fpcommon.py:111: DeprecationWarning: DataFrames with non-bool types result in worse computationalperformance and their support might be discontinued in the future.Please use a DataFrame with bool type\n",
            "  warnings.warn(\n"
          ]
        }
      ],
      "source": [
        "frequent_itemsets_ap = apriori(book, min_support = 0.1)"
      ]
    },
    {
      "cell_type": "code",
      "execution_count": null,
      "id": "b1d491a2",
      "metadata": {
        "id": "b1d491a2",
        "outputId": "b1bab45a-a317-4573-a8a0-5af7defdc650"
      },
      "outputs": [
        {
          "name": "stdout",
          "output_type": "stream",
          "text": [
            "39\n"
          ]
        }
      ],
      "source": [
        "print(len(frequent_itemsets_ap))"
      ]
    },
    {
      "cell_type": "code",
      "execution_count": null,
      "id": "6920ac1a",
      "metadata": {
        "id": "6920ac1a",
        "outputId": "fc5628cc-d4fc-475c-f144-4c3de0767d7a"
      },
      "outputs": [
        {
          "name": "stdout",
          "output_type": "stream",
          "text": [
            "Processing 44 combinations | Sampling itemset size 4\n",
            "   support    itemsets\n",
            "0   0.4230  (ChildBks)\n",
            "1   0.2475  (YouthBks)\n",
            "2   0.4310   (CookBks)\n",
            "3   0.2820  (DoItYBks)\n",
            "4   0.2145    (RefBks)\n"
          ]
        },
        {
          "name": "stderr",
          "output_type": "stream",
          "text": [
            "C:\\Anaconda\\lib\\site-packages\\mlxtend\\frequent_patterns\\fpcommon.py:111: DeprecationWarning: DataFrames with non-bool types result in worse computationalperformance and their support might be discontinued in the future.Please use a DataFrame with bool type\n",
            "  warnings.warn(\n"
          ]
        }
      ],
      "source": [
        "frequent_itemsets_ap = apriori(book, min_support=0.1, use_colnames= True, verbose=1)\n",
        "print(frequent_itemsets_ap.head())"
      ]
    },
    {
      "cell_type": "code",
      "execution_count": null,
      "id": "ca02737b",
      "metadata": {
        "id": "ca02737b",
        "outputId": "36e1e700-d969-44b1-eefe-15315ae036dc"
      },
      "outputs": [
        {
          "data": {
            "text/html": [
              "<div>\n",
              "<style scoped>\n",
              "    .dataframe tbody tr th:only-of-type {\n",
              "        vertical-align: middle;\n",
              "    }\n",
              "\n",
              "    .dataframe tbody tr th {\n",
              "        vertical-align: top;\n",
              "    }\n",
              "\n",
              "    .dataframe thead th {\n",
              "        text-align: right;\n",
              "    }\n",
              "</style>\n",
              "<table border=\"1\" class=\"dataframe\">\n",
              "  <thead>\n",
              "    <tr style=\"text-align: right;\">\n",
              "      <th></th>\n",
              "      <th>support</th>\n",
              "      <th>itemsets</th>\n",
              "    </tr>\n",
              "  </thead>\n",
              "  <tbody>\n",
              "    <tr>\n",
              "      <th>2</th>\n",
              "      <td>0.431</td>\n",
              "      <td>(CookBks)</td>\n",
              "    </tr>\n",
              "    <tr>\n",
              "      <th>0</th>\n",
              "      <td>0.423</td>\n",
              "      <td>(ChildBks)</td>\n",
              "    </tr>\n",
              "    <tr>\n",
              "      <th>3</th>\n",
              "      <td>0.282</td>\n",
              "      <td>(DoItYBks)</td>\n",
              "    </tr>\n",
              "    <tr>\n",
              "      <th>6</th>\n",
              "      <td>0.276</td>\n",
              "      <td>(GeogBks)</td>\n",
              "    </tr>\n",
              "    <tr>\n",
              "      <th>10</th>\n",
              "      <td>0.256</td>\n",
              "      <td>(ChildBks, CookBks)</td>\n",
              "    </tr>\n",
              "  </tbody>\n",
              "</table>\n",
              "</div>"
            ],
            "text/plain": [
              "    support             itemsets\n",
              "2     0.431            (CookBks)\n",
              "0     0.423           (ChildBks)\n",
              "3     0.282           (DoItYBks)\n",
              "6     0.276            (GeogBks)\n",
              "10    0.256  (ChildBks, CookBks)"
            ]
          },
          "execution_count": 9,
          "metadata": {},
          "output_type": "execute_result"
        }
      ],
      "source": [
        "frequent_itemsets_ap.sort_values(\"support\", ascending = False).head()"
      ]
    },
    {
      "cell_type": "code",
      "execution_count": null,
      "id": "166f62e8",
      "metadata": {
        "id": "166f62e8",
        "outputId": "312e5173-a338-4a08-e37a-623cbe1cf32a"
      },
      "outputs": [
        {
          "name": "stdout",
          "output_type": "stream",
          "text": [
            "  antecedents consequents  antecedent support  consequent support  support  \\\n",
            "0  (YouthBks)  (ChildBks)              0.2475               0.423    0.165   \n",
            "1  (ChildBks)   (CookBks)              0.4230               0.431    0.256   \n",
            "2   (CookBks)  (ChildBks)              0.4310               0.423    0.256   \n",
            "3  (ChildBks)  (DoItYBks)              0.4230               0.282    0.184   \n",
            "4  (DoItYBks)  (ChildBks)              0.2820               0.423    0.184   \n",
            "\n",
            "   confidence      lift  leverage  conviction  \n",
            "0    0.666667  1.576044  0.060308    1.731000  \n",
            "1    0.605201  1.404179  0.073687    1.441240  \n",
            "2    0.593968  1.404179  0.073687    1.421069  \n",
            "3    0.434988  1.542511  0.064714    1.270770  \n",
            "4    0.652482  1.542511  0.064714    1.660347  \n"
          ]
        }
      ],
      "source": [
        "rules_ap = association_rules(frequent_itemsets_ap, metric= \"confidence\", min_threshold=0.4)\n",
        "print(rules_ap.head())"
      ]
    },
    {
      "cell_type": "code",
      "execution_count": null,
      "id": "67a3e7fa",
      "metadata": {
        "id": "67a3e7fa",
        "outputId": "59a8157c-8427-47cf-f78d-e4252501fa96"
      },
      "outputs": [
        {
          "data": {
            "text/plain": [
              "(70, 9)"
            ]
          },
          "execution_count": 12,
          "metadata": {},
          "output_type": "execute_result"
        }
      ],
      "source": [
        "rules_ap[(rules_ap.support > 0.015) & (rules_ap.confidence > 0.4)].sort_values(\"confidence\", ascending = False).shape"
      ]
    },
    {
      "cell_type": "code",
      "execution_count": null,
      "id": "bc52672d",
      "metadata": {
        "id": "bc52672d",
        "outputId": "40f6332d-8988-4395-c673-aa7441e6a29a"
      },
      "outputs": [
        {
          "data": {
            "text/html": [
              "<div>\n",
              "<style scoped>\n",
              "    .dataframe tbody tr th:only-of-type {\n",
              "        vertical-align: middle;\n",
              "    }\n",
              "\n",
              "    .dataframe tbody tr th {\n",
              "        vertical-align: top;\n",
              "    }\n",
              "\n",
              "    .dataframe thead th {\n",
              "        text-align: right;\n",
              "    }\n",
              "</style>\n",
              "<table border=\"1\" class=\"dataframe\">\n",
              "  <thead>\n",
              "    <tr style=\"text-align: right;\">\n",
              "      <th></th>\n",
              "      <th>antecedents</th>\n",
              "      <th>consequents</th>\n",
              "      <th>antecedent support</th>\n",
              "      <th>consequent support</th>\n",
              "      <th>support</th>\n",
              "      <th>confidence</th>\n",
              "      <th>lift</th>\n",
              "      <th>leverage</th>\n",
              "      <th>conviction</th>\n",
              "      <th>lhs items</th>\n",
              "    </tr>\n",
              "  </thead>\n",
              "  <tbody>\n",
              "    <tr>\n",
              "      <th>56</th>\n",
              "      <td>(ChildBks, ArtBks)</td>\n",
              "      <td>(GeogBks)</td>\n",
              "      <td>0.1625</td>\n",
              "      <td>0.2760</td>\n",
              "      <td>0.1020</td>\n",
              "      <td>0.627692</td>\n",
              "      <td>2.274247</td>\n",
              "      <td>0.057150</td>\n",
              "      <td>1.944628</td>\n",
              "      <td>2</td>\n",
              "    </tr>\n",
              "    <tr>\n",
              "      <th>61</th>\n",
              "      <td>(CookBks, DoItYBks)</td>\n",
              "      <td>(ArtBks)</td>\n",
              "      <td>0.1875</td>\n",
              "      <td>0.2410</td>\n",
              "      <td>0.1015</td>\n",
              "      <td>0.541333</td>\n",
              "      <td>2.246196</td>\n",
              "      <td>0.056313</td>\n",
              "      <td>1.654797</td>\n",
              "      <td>2</td>\n",
              "    </tr>\n",
              "    <tr>\n",
              "      <th>67</th>\n",
              "      <td>(CookBks, ArtBks)</td>\n",
              "      <td>(GeogBks)</td>\n",
              "      <td>0.1670</td>\n",
              "      <td>0.2760</td>\n",
              "      <td>0.1035</td>\n",
              "      <td>0.619760</td>\n",
              "      <td>2.245509</td>\n",
              "      <td>0.057408</td>\n",
              "      <td>1.904063</td>\n",
              "      <td>2</td>\n",
              "    </tr>\n",
              "    <tr>\n",
              "      <th>66</th>\n",
              "      <td>(CookBks, GeogBks)</td>\n",
              "      <td>(ArtBks)</td>\n",
              "      <td>0.1925</td>\n",
              "      <td>0.2410</td>\n",
              "      <td>0.1035</td>\n",
              "      <td>0.537662</td>\n",
              "      <td>2.230964</td>\n",
              "      <td>0.057107</td>\n",
              "      <td>1.641657</td>\n",
              "      <td>2</td>\n",
              "    </tr>\n",
              "    <tr>\n",
              "      <th>40</th>\n",
              "      <td>(ChildBks, CookBks)</td>\n",
              "      <td>(RefBks)</td>\n",
              "      <td>0.2560</td>\n",
              "      <td>0.2145</td>\n",
              "      <td>0.1225</td>\n",
              "      <td>0.478516</td>\n",
              "      <td>2.230842</td>\n",
              "      <td>0.067588</td>\n",
              "      <td>1.506277</td>\n",
              "      <td>2</td>\n",
              "    </tr>\n",
              "  </tbody>\n",
              "</table>\n",
              "</div>"
            ],
            "text/plain": [
              "            antecedents consequents  antecedent support  consequent support  \\\n",
              "56   (ChildBks, ArtBks)   (GeogBks)              0.1625              0.2760   \n",
              "61  (CookBks, DoItYBks)    (ArtBks)              0.1875              0.2410   \n",
              "67    (CookBks, ArtBks)   (GeogBks)              0.1670              0.2760   \n",
              "66   (CookBks, GeogBks)    (ArtBks)              0.1925              0.2410   \n",
              "40  (ChildBks, CookBks)    (RefBks)              0.2560              0.2145   \n",
              "\n",
              "    support  confidence      lift  leverage  conviction  lhs items  \n",
              "56   0.1020    0.627692  2.274247  0.057150    1.944628          2  \n",
              "61   0.1015    0.541333  2.246196  0.056313    1.654797          2  \n",
              "67   0.1035    0.619760  2.245509  0.057408    1.904063          2  \n",
              "66   0.1035    0.537662  2.230964  0.057107    1.641657          2  \n",
              "40   0.1225    0.478516  2.230842  0.067588    1.506277          2  "
            ]
          },
          "execution_count": 13,
          "metadata": {},
          "output_type": "execute_result"
        }
      ],
      "source": [
        "rules_ap['lhs items'] = rules_ap['antecedents'].apply(lambda x:len(x) )\n",
        "rules_ap[rules_ap['lhs items']>1].sort_values('lift', ascending=False).head()"
      ]
    },
    {
      "cell_type": "code",
      "execution_count": null,
      "id": "1df0ba27",
      "metadata": {
        "id": "1df0ba27",
        "outputId": "10680504-5b31-4ae1-d564-d74baeb7866f"
      },
      "outputs": [
        {
          "data": {
            "text/plain": [
              "(array([0.5, 1.5, 2.5, 3.5, 4.5, 5.5, 6.5]),\n",
              " [Text(0.5, 0, 'ArtBks'),\n",
              "  Text(1.5, 0, 'ChildBks'),\n",
              "  Text(2.5, 0, 'CookBks'),\n",
              "  Text(3.5, 0, 'DoItYBks'),\n",
              "  Text(4.5, 0, 'GeogBks'),\n",
              "  Text(5.5, 0, 'RefBks'),\n",
              "  Text(6.5, 0, 'YouthBks')])"
            ]
          },
          "execution_count": 14,
          "metadata": {},
          "output_type": "execute_result"
        },
        {
          "data": {
            "image/png": "[encoded data removed]",
            "text/plain": [
              "<Figure size 432x288 with 2 Axes>"
            ]
          },
          "metadata": {
            "needs_background": "light"
          },
          "output_type": "display_data"
        }
      ],
      "source": [
        "rules_ap['antecedents_'] = rules_ap['antecedents'].apply(lambda a: ','.join(list(a)))\n",
        "rules_ap['consequents_'] = rules_ap['consequents'].apply(lambda a: ','.join(list(a)))\n",
        "# Transform the DataFrame of rules into a matrix using the confidence metric\n",
        "pivot = rules_ap[rules_ap['lhs items']>1].pivot(index = 'antecedents_', \n",
        "                    columns = 'consequents_', values= 'confidence')\n",
        "# Generate a heatmap with annotations \n",
        "sns.heatmap(pivot, annot = True)\n",
        "plt.title('Heat Map - For Confidence Metric')\n",
        "plt.yticks(rotation=0)\n",
        "plt.xticks(rotation=90)"
      ]
    },
    {
      "cell_type": "code",
      "execution_count": null,
      "id": "2090edf9",
      "metadata": {
        "id": "2090edf9",
        "outputId": "22abec7e-f318-4efa-9473-f512480f69c6"
      },
      "outputs": [
        {
          "name": "stdout",
          "output_type": "stream",
          "text": [
            "(100, 9)\n"
          ]
        }
      ],
      "source": [
        "rules_ap_li = association_rules(frequent_itemsets_ap, metric=\"lift\", min_threshold=0.6)\n",
        "print(rules_ap_li.shape)"
      ]
    },
    {
      "cell_type": "code",
      "execution_count": null,
      "id": "c25815a7",
      "metadata": {
        "id": "c25815a7",
        "outputId": "d541e2c1-41bb-4f5b-9e41-70566a9137a8"
      },
      "outputs": [
        {
          "data": {
            "text/html": [
              "<div>\n",
              "<style scoped>\n",
              "    .dataframe tbody tr th:only-of-type {\n",
              "        vertical-align: middle;\n",
              "    }\n",
              "\n",
              "    .dataframe tbody tr th {\n",
              "        vertical-align: top;\n",
              "    }\n",
              "\n",
              "    .dataframe thead th {\n",
              "        text-align: right;\n",
              "    }\n",
              "</style>\n",
              "<table border=\"1\" class=\"dataframe\">\n",
              "  <thead>\n",
              "    <tr style=\"text-align: right;\">\n",
              "      <th></th>\n",
              "      <th>antecedents</th>\n",
              "      <th>consequents</th>\n",
              "      <th>antecedent support</th>\n",
              "      <th>consequent support</th>\n",
              "      <th>support</th>\n",
              "      <th>confidence</th>\n",
              "      <th>lift</th>\n",
              "      <th>leverage</th>\n",
              "      <th>conviction</th>\n",
              "      <th>lhs items</th>\n",
              "    </tr>\n",
              "  </thead>\n",
              "  <tbody>\n",
              "    <tr>\n",
              "      <th>77</th>\n",
              "      <td>(ChildBks, ArtBks)</td>\n",
              "      <td>(GeogBks)</td>\n",
              "      <td>0.1625</td>\n",
              "      <td>0.2760</td>\n",
              "      <td>0.1020</td>\n",
              "      <td>0.627692</td>\n",
              "      <td>2.274247</td>\n",
              "      <td>0.057150</td>\n",
              "      <td>1.944628</td>\n",
              "      <td>2</td>\n",
              "    </tr>\n",
              "    <tr>\n",
              "      <th>84</th>\n",
              "      <td>(CookBks, DoItYBks)</td>\n",
              "      <td>(ArtBks)</td>\n",
              "      <td>0.1875</td>\n",
              "      <td>0.2410</td>\n",
              "      <td>0.1015</td>\n",
              "      <td>0.541333</td>\n",
              "      <td>2.246196</td>\n",
              "      <td>0.056313</td>\n",
              "      <td>1.654797</td>\n",
              "      <td>2</td>\n",
              "    </tr>\n",
              "    <tr>\n",
              "      <th>95</th>\n",
              "      <td>(CookBks, ArtBks)</td>\n",
              "      <td>(GeogBks)</td>\n",
              "      <td>0.1670</td>\n",
              "      <td>0.2760</td>\n",
              "      <td>0.1035</td>\n",
              "      <td>0.619760</td>\n",
              "      <td>2.245509</td>\n",
              "      <td>0.057408</td>\n",
              "      <td>1.904063</td>\n",
              "      <td>2</td>\n",
              "    </tr>\n",
              "    <tr>\n",
              "      <th>94</th>\n",
              "      <td>(CookBks, GeogBks)</td>\n",
              "      <td>(ArtBks)</td>\n",
              "      <td>0.1925</td>\n",
              "      <td>0.2410</td>\n",
              "      <td>0.1035</td>\n",
              "      <td>0.537662</td>\n",
              "      <td>2.230964</td>\n",
              "      <td>0.057107</td>\n",
              "      <td>1.641657</td>\n",
              "      <td>2</td>\n",
              "    </tr>\n",
              "    <tr>\n",
              "      <th>52</th>\n",
              "      <td>(ChildBks, CookBks)</td>\n",
              "      <td>(RefBks)</td>\n",
              "      <td>0.2560</td>\n",
              "      <td>0.2145</td>\n",
              "      <td>0.1225</td>\n",
              "      <td>0.478516</td>\n",
              "      <td>2.230842</td>\n",
              "      <td>0.067588</td>\n",
              "      <td>1.506277</td>\n",
              "      <td>2</td>\n",
              "    </tr>\n",
              "  </tbody>\n",
              "</table>\n",
              "</div>"
            ],
            "text/plain": [
              "            antecedents consequents  antecedent support  consequent support  \\\n",
              "77   (ChildBks, ArtBks)   (GeogBks)              0.1625              0.2760   \n",
              "84  (CookBks, DoItYBks)    (ArtBks)              0.1875              0.2410   \n",
              "95    (CookBks, ArtBks)   (GeogBks)              0.1670              0.2760   \n",
              "94   (CookBks, GeogBks)    (ArtBks)              0.1925              0.2410   \n",
              "52  (ChildBks, CookBks)    (RefBks)              0.2560              0.2145   \n",
              "\n",
              "    support  confidence      lift  leverage  conviction  lhs items  \n",
              "77   0.1020    0.627692  2.274247  0.057150    1.944628          2  \n",
              "84   0.1015    0.541333  2.246196  0.056313    1.654797          2  \n",
              "95   0.1035    0.619760  2.245509  0.057408    1.904063          2  \n",
              "94   0.1035    0.537662  2.230964  0.057107    1.641657          2  \n",
              "52   0.1225    0.478516  2.230842  0.067588    1.506277          2  "
            ]
          },
          "execution_count": 17,
          "metadata": {},
          "output_type": "execute_result"
        }
      ],
      "source": [
        "rules_ap_li['lhs items'] = rules_ap_li['antecedents'].apply(lambda x:len(x) )\n",
        "rules_ap_li[rules_ap_li['lhs items']>1].sort_values('lift', ascending=False).head()"
      ]
    },
    {
      "cell_type": "code",
      "execution_count": null,
      "id": "e460f4c0",
      "metadata": {
        "id": "e460f4c0",
        "outputId": "6aca9801-e981-4a8d-c848-fba8b7abfcd1"
      },
      "outputs": [
        {
          "data": {
            "text/plain": [
              "(array([0.5, 1.5, 2.5, 3.5, 4.5, 5.5, 6.5]),\n",
              " [Text(0.5, 0, 'ArtBks'),\n",
              "  Text(1.5, 0, 'ChildBks'),\n",
              "  Text(2.5, 0, 'CookBks'),\n",
              "  Text(3.5, 0, 'DoItYBks'),\n",
              "  Text(4.5, 0, 'GeogBks'),\n",
              "  Text(5.5, 0, 'RefBks'),\n",
              "  Text(6.5, 0, 'YouthBks')])"
            ]
          },
          "execution_count": 18,
          "metadata": {},
          "output_type": "execute_result"
        },
        {
          "data": {
            "image/png": "[encoded data removed]",
            "text/plain": [
              "<Figure size 432x288 with 2 Axes>"
            ]
          },
          "metadata": {
            "needs_background": "light"
          },
          "output_type": "display_data"
        }
      ],
      "source": [
        "# Replace frozen sets with strings\n",
        "rules_ap_li['antecedents_'] = rules_ap_li['antecedents'].apply(lambda a: ','.join(list(a)))\n",
        "rules_ap_li['consequents_'] = rules_ap_li['consequents'].apply(lambda a: ','.join(list(a)))\n",
        "# Transform the DataFrame of rules into a matrix using the lift metric\n",
        "pivot = rules_ap_li[rules_ap_li['lhs items']>1].pivot(index = 'antecedents_', \n",
        "                    columns = 'consequents_', values= 'lift')\n",
        "# Generate a heatmap with annotations on and the colorbar off\n",
        "sns.heatmap(pivot, annot = True)\n",
        "plt.title('Heat Map - For Lift Metric')\n",
        "plt.yticks(rotation=0)\n",
        "plt.xticks(rotation=90)"
      ]
    },
    {
      "cell_type": "markdown",
      "id": "e0f926db",
      "metadata": {
        "id": "e0f926db"
      },
      "source": [
        "# FpGrowth Algorithm"
      ]
    },
    {
      "cell_type": "code",
      "execution_count": null,
      "id": "0306af74",
      "metadata": {
        "id": "0306af74",
        "outputId": "260b88f9-36c5-467e-cce5-4389b6388b6f"
      },
      "outputs": [
        {
          "name": "stdout",
          "output_type": "stream",
          "text": [
            "9 itemset(s) from tree conditioned on items ()\n",
            "2 itemset(s) from tree conditioned on items (DoItYBks)\n",
            "1 itemset(s) from tree conditioned on items (DoItYBks, ChildBks)\n",
            "0 itemset(s) from tree conditioned on items (DoItYBks, CookBks)\n",
            "3 itemset(s) from tree conditioned on items (GeogBks)\n",
            "2 itemset(s) from tree conditioned on items (GeogBks, DoItYBks)\n",
            "0 itemset(s) from tree conditioned on items (GeogBks, DoItYBks, CookBks)\n",
            "0 itemset(s) from tree conditioned on items (GeogBks, DoItYBks, ChildBks)\n",
            "0 itemset(s) from tree conditioned on items (GeogBks, ChildBks)\n",
            "1 itemset(s) from tree conditioned on items (GeogBks, CookBks)\n",
            "4 itemset(s) from tree conditioned on items (YouthBks)\n",
            "0 itemset(s) from tree conditioned on items (YouthBks, GeogBks)\n",
            "0 itemset(s) from tree conditioned on items (YouthBks, DoItYBks)\n",
            "0 itemset(s) from tree conditioned on items (YouthBks, ChildBks)\n",
            "1 itemset(s) from tree conditioned on items (YouthBks, CookBks)\n",
            "1 itemset(s) from tree conditioned on items (ChildBks)\n",
            "0 itemset(s) from tree conditioned on items (CookBks)\n",
            "4 itemset(s) from tree conditioned on items (RefBks)\n",
            "0 itemset(s) from tree conditioned on items (RefBks, CookBks)\n",
            "1 itemset(s) from tree conditioned on items (RefBks, ChildBks)\n",
            "0 itemset(s) from tree conditioned on items (RefBks, GeogBks)\n",
            "0 itemset(s) from tree conditioned on items (RefBks, DoItYBks)\n",
            "5 itemset(s) from tree conditioned on items (ArtBks)\n",
            "1 itemset(s) from tree conditioned on items (ArtBks, ChildBks)\n",
            "1 itemset(s) from tree conditioned on items (ArtBks, DoItYBks)\n",
            "0 itemset(s) from tree conditioned on items (ArtBks, YouthBks)\n",
            "0 itemset(s) from tree conditioned on items (ArtBks, CookBks)\n",
            "2 itemset(s) from tree conditioned on items (ArtBks, GeogBks)\n",
            "0 itemset(s) from tree conditioned on items (ArtBks, GeogBks, CookBks)\n",
            "0 itemset(s) from tree conditioned on items (ArtBks, GeogBks, ChildBks)\n",
            "0 itemset(s) from tree conditioned on items (Florence)\n",
            "1 itemset(s) from tree conditioned on items (ItalCook)\n",
            "(39, 2)\n"
          ]
        },
        {
          "name": "stderr",
          "output_type": "stream",
          "text": [
            "C:\\Anaconda\\lib\\site-packages\\mlxtend\\frequent_patterns\\fpcommon.py:111: DeprecationWarning: DataFrames with non-bool types result in worse computationalperformance and their support might be discontinued in the future.Please use a DataFrame with bool type\n",
            "  warnings.warn(\n"
          ]
        }
      ],
      "source": [
        "frequent_itemsets_fp=fpgrowth(book, min_support=0.1, use_colnames=True,verbose=1)\n",
        "print(frequent_itemsets_fp.shape)"
      ]
    },
    {
      "cell_type": "code",
      "execution_count": null,
      "id": "46905d54",
      "metadata": {
        "id": "46905d54",
        "outputId": "6314ed91-b5e7-47de-8c80-8d0b779fa451"
      },
      "outputs": [
        {
          "data": {
            "text/html": [
              "<div>\n",
              "<style scoped>\n",
              "    .dataframe tbody tr th:only-of-type {\n",
              "        vertical-align: middle;\n",
              "    }\n",
              "\n",
              "    .dataframe tbody tr th {\n",
              "        vertical-align: top;\n",
              "    }\n",
              "\n",
              "    .dataframe thead th {\n",
              "        text-align: right;\n",
              "    }\n",
              "</style>\n",
              "<table border=\"1\" class=\"dataframe\">\n",
              "  <thead>\n",
              "    <tr style=\"text-align: right;\">\n",
              "      <th></th>\n",
              "      <th>support</th>\n",
              "      <th>itemsets</th>\n",
              "    </tr>\n",
              "  </thead>\n",
              "  <tbody>\n",
              "    <tr>\n",
              "      <th>4</th>\n",
              "      <td>0.431</td>\n",
              "      <td>(CookBks)</td>\n",
              "    </tr>\n",
              "    <tr>\n",
              "      <th>3</th>\n",
              "      <td>0.423</td>\n",
              "      <td>(ChildBks)</td>\n",
              "    </tr>\n",
              "    <tr>\n",
              "      <th>0</th>\n",
              "      <td>0.282</td>\n",
              "      <td>(DoItYBks)</td>\n",
              "    </tr>\n",
              "    <tr>\n",
              "      <th>1</th>\n",
              "      <td>0.276</td>\n",
              "      <td>(GeogBks)</td>\n",
              "    </tr>\n",
              "    <tr>\n",
              "      <th>23</th>\n",
              "      <td>0.256</td>\n",
              "      <td>(ChildBks, CookBks)</td>\n",
              "    </tr>\n",
              "  </tbody>\n",
              "</table>\n",
              "</div>"
            ],
            "text/plain": [
              "    support             itemsets\n",
              "4     0.431            (CookBks)\n",
              "3     0.423           (ChildBks)\n",
              "0     0.282           (DoItYBks)\n",
              "1     0.276            (GeogBks)\n",
              "23    0.256  (ChildBks, CookBks)"
            ]
          },
          "execution_count": 20,
          "metadata": {},
          "output_type": "execute_result"
        }
      ],
      "source": [
        "frequent_itemsets_fp.sort_values(\"support\", ascending = False).head()"
      ]
    },
    {
      "cell_type": "code",
      "execution_count": null,
      "id": "9c697f71",
      "metadata": {
        "id": "9c697f71",
        "outputId": "1e2cfe51-11a0-4cc2-987d-1e889e6042a5"
      },
      "outputs": [
        {
          "name": "stdout",
          "output_type": "stream",
          "text": [
            "(49, 9)\n"
          ]
        }
      ],
      "source": [
        "rules_fp = association_rules(frequent_itemsets_fp, metric=\"confidence\", min_threshold=0.5)\n",
        "print(rules_fp.shape)"
      ]
    },
    {
      "cell_type": "code",
      "execution_count": null,
      "id": "04fdc259",
      "metadata": {
        "id": "04fdc259",
        "outputId": "bb520b49-939a-4c75-e8db-482a4e2988ef"
      },
      "outputs": [
        {
          "data": {
            "text/html": [
              "<div>\n",
              "<style scoped>\n",
              "    .dataframe tbody tr th:only-of-type {\n",
              "        vertical-align: middle;\n",
              "    }\n",
              "\n",
              "    .dataframe tbody tr th {\n",
              "        vertical-align: top;\n",
              "    }\n",
              "\n",
              "    .dataframe thead th {\n",
              "        text-align: right;\n",
              "    }\n",
              "</style>\n",
              "<table border=\"1\" class=\"dataframe\">\n",
              "  <thead>\n",
              "    <tr style=\"text-align: right;\">\n",
              "      <th></th>\n",
              "      <th>antecedents</th>\n",
              "      <th>consequents</th>\n",
              "      <th>antecedent support</th>\n",
              "      <th>consequent support</th>\n",
              "      <th>support</th>\n",
              "      <th>confidence</th>\n",
              "      <th>lift</th>\n",
              "      <th>leverage</th>\n",
              "      <th>conviction</th>\n",
              "    </tr>\n",
              "  </thead>\n",
              "  <tbody>\n",
              "    <tr>\n",
              "      <th>26</th>\n",
              "      <td>(RefBks)</td>\n",
              "      <td>(CookBks)</td>\n",
              "      <td>0.2145</td>\n",
              "      <td>0.431</td>\n",
              "      <td>0.1525</td>\n",
              "      <td>0.710956</td>\n",
              "      <td>1.649549</td>\n",
              "      <td>0.060050</td>\n",
              "      <td>1.968556</td>\n",
              "    </tr>\n",
              "    <tr>\n",
              "      <th>6</th>\n",
              "      <td>(GeogBks)</td>\n",
              "      <td>(ChildBks)</td>\n",
              "      <td>0.2760</td>\n",
              "      <td>0.423</td>\n",
              "      <td>0.1950</td>\n",
              "      <td>0.706522</td>\n",
              "      <td>1.670264</td>\n",
              "      <td>0.078252</td>\n",
              "      <td>1.966074</td>\n",
              "    </tr>\n",
              "    <tr>\n",
              "      <th>27</th>\n",
              "      <td>(RefBks)</td>\n",
              "      <td>(ChildBks)</td>\n",
              "      <td>0.2145</td>\n",
              "      <td>0.423</td>\n",
              "      <td>0.1515</td>\n",
              "      <td>0.706294</td>\n",
              "      <td>1.669725</td>\n",
              "      <td>0.060767</td>\n",
              "      <td>1.964548</td>\n",
              "    </tr>\n",
              "    <tr>\n",
              "      <th>7</th>\n",
              "      <td>(GeogBks)</td>\n",
              "      <td>(CookBks)</td>\n",
              "      <td>0.2760</td>\n",
              "      <td>0.431</td>\n",
              "      <td>0.1925</td>\n",
              "      <td>0.697464</td>\n",
              "      <td>1.618245</td>\n",
              "      <td>0.073544</td>\n",
              "      <td>1.880766</td>\n",
              "    </tr>\n",
              "    <tr>\n",
              "      <th>34</th>\n",
              "      <td>(ArtBks)</td>\n",
              "      <td>(CookBks)</td>\n",
              "      <td>0.2410</td>\n",
              "      <td>0.431</td>\n",
              "      <td>0.1670</td>\n",
              "      <td>0.692946</td>\n",
              "      <td>1.607763</td>\n",
              "      <td>0.063129</td>\n",
              "      <td>1.853095</td>\n",
              "    </tr>\n",
              "  </tbody>\n",
              "</table>\n",
              "</div>"
            ],
            "text/plain": [
              "   antecedents consequents  antecedent support  consequent support  support  \\\n",
              "26    (RefBks)   (CookBks)              0.2145               0.431   0.1525   \n",
              "6    (GeogBks)  (ChildBks)              0.2760               0.423   0.1950   \n",
              "27    (RefBks)  (ChildBks)              0.2145               0.423   0.1515   \n",
              "7    (GeogBks)   (CookBks)              0.2760               0.431   0.1925   \n",
              "34    (ArtBks)   (CookBks)              0.2410               0.431   0.1670   \n",
              "\n",
              "    confidence      lift  leverage  conviction  \n",
              "26    0.710956  1.649549  0.060050    1.968556  \n",
              "6     0.706522  1.670264  0.078252    1.966074  \n",
              "27    0.706294  1.669725  0.060767    1.964548  \n",
              "7     0.697464  1.618245  0.073544    1.880766  \n",
              "34    0.692946  1.607763  0.063129    1.853095  "
            ]
          },
          "execution_count": 22,
          "metadata": {},
          "output_type": "execute_result"
        }
      ],
      "source": [
        "rules_fp[(rules_fp.support > 0.15) & (rules_fp.confidence > 0.4)].sort_values(\"confidence\", ascending = False).head()"
      ]
    },
    {
      "cell_type": "code",
      "execution_count": null,
      "id": "4a870eaa",
      "metadata": {
        "id": "4a870eaa",
        "outputId": "9c3960de-9877-4146-fbed-f58fce04386b"
      },
      "outputs": [
        {
          "data": {
            "text/html": [
              "<div>\n",
              "<style scoped>\n",
              "    .dataframe tbody tr th:only-of-type {\n",
              "        vertical-align: middle;\n",
              "    }\n",
              "\n",
              "    .dataframe tbody tr th {\n",
              "        vertical-align: top;\n",
              "    }\n",
              "\n",
              "    .dataframe thead th {\n",
              "        text-align: right;\n",
              "    }\n",
              "</style>\n",
              "<table border=\"1\" class=\"dataframe\">\n",
              "  <thead>\n",
              "    <tr style=\"text-align: right;\">\n",
              "      <th></th>\n",
              "      <th>antecedents</th>\n",
              "      <th>consequents</th>\n",
              "      <th>antecedent support</th>\n",
              "      <th>consequent support</th>\n",
              "      <th>support</th>\n",
              "      <th>confidence</th>\n",
              "      <th>lift</th>\n",
              "      <th>leverage</th>\n",
              "      <th>conviction</th>\n",
              "      <th>lhs items</th>\n",
              "    </tr>\n",
              "  </thead>\n",
              "  <tbody>\n",
              "    <tr>\n",
              "      <th>46</th>\n",
              "      <td>(ChildBks, ArtBks)</td>\n",
              "      <td>(GeogBks)</td>\n",
              "      <td>0.1625</td>\n",
              "      <td>0.276</td>\n",
              "      <td>0.1020</td>\n",
              "      <td>0.627692</td>\n",
              "      <td>2.274247</td>\n",
              "      <td>0.057150</td>\n",
              "      <td>1.944628</td>\n",
              "      <td>2</td>\n",
              "    </tr>\n",
              "    <tr>\n",
              "      <th>41</th>\n",
              "      <td>(CookBks, DoItYBks)</td>\n",
              "      <td>(ArtBks)</td>\n",
              "      <td>0.1875</td>\n",
              "      <td>0.241</td>\n",
              "      <td>0.1015</td>\n",
              "      <td>0.541333</td>\n",
              "      <td>2.246196</td>\n",
              "      <td>0.056313</td>\n",
              "      <td>1.654797</td>\n",
              "      <td>2</td>\n",
              "    </tr>\n",
              "    <tr>\n",
              "      <th>43</th>\n",
              "      <td>(CookBks, ArtBks)</td>\n",
              "      <td>(GeogBks)</td>\n",
              "      <td>0.1670</td>\n",
              "      <td>0.276</td>\n",
              "      <td>0.1035</td>\n",
              "      <td>0.619760</td>\n",
              "      <td>2.245509</td>\n",
              "      <td>0.057408</td>\n",
              "      <td>1.904063</td>\n",
              "      <td>2</td>\n",
              "    </tr>\n",
              "    <tr>\n",
              "      <th>42</th>\n",
              "      <td>(CookBks, GeogBks)</td>\n",
              "      <td>(ArtBks)</td>\n",
              "      <td>0.1925</td>\n",
              "      <td>0.241</td>\n",
              "      <td>0.1035</td>\n",
              "      <td>0.537662</td>\n",
              "      <td>2.230964</td>\n",
              "      <td>0.057107</td>\n",
              "      <td>1.641657</td>\n",
              "      <td>2</td>\n",
              "    </tr>\n",
              "    <tr>\n",
              "      <th>45</th>\n",
              "      <td>(ChildBks, GeogBks)</td>\n",
              "      <td>(ArtBks)</td>\n",
              "      <td>0.1950</td>\n",
              "      <td>0.241</td>\n",
              "      <td>0.1020</td>\n",
              "      <td>0.523077</td>\n",
              "      <td>2.170444</td>\n",
              "      <td>0.055005</td>\n",
              "      <td>1.591452</td>\n",
              "      <td>2</td>\n",
              "    </tr>\n",
              "  </tbody>\n",
              "</table>\n",
              "</div>"
            ],
            "text/plain": [
              "            antecedents consequents  antecedent support  consequent support  \\\n",
              "46   (ChildBks, ArtBks)   (GeogBks)              0.1625               0.276   \n",
              "41  (CookBks, DoItYBks)    (ArtBks)              0.1875               0.241   \n",
              "43    (CookBks, ArtBks)   (GeogBks)              0.1670               0.276   \n",
              "42   (CookBks, GeogBks)    (ArtBks)              0.1925               0.241   \n",
              "45  (ChildBks, GeogBks)    (ArtBks)              0.1950               0.241   \n",
              "\n",
              "    support  confidence      lift  leverage  conviction  lhs items  \n",
              "46   0.1020    0.627692  2.274247  0.057150    1.944628          2  \n",
              "41   0.1015    0.541333  2.246196  0.056313    1.654797          2  \n",
              "43   0.1035    0.619760  2.245509  0.057408    1.904063          2  \n",
              "42   0.1035    0.537662  2.230964  0.057107    1.641657          2  \n",
              "45   0.1020    0.523077  2.170444  0.055005    1.591452          2  "
            ]
          },
          "execution_count": 23,
          "metadata": {},
          "output_type": "execute_result"
        }
      ],
      "source": [
        "rules_fp['lhs items'] = rules_fp['antecedents'].apply(lambda x:len(x) )\n",
        "rules_fp[rules_fp['lhs items']>1].sort_values('lift', ascending=False).head()"
      ]
    },
    {
      "cell_type": "code",
      "execution_count": null,
      "id": "1d2ab899",
      "metadata": {
        "id": "1d2ab899",
        "outputId": "2b6e9cde-7f5e-4fba-c7fe-ea358445c19f"
      },
      "outputs": [
        {
          "data": {
            "text/plain": [
              "(array([0.5, 1.5, 2.5, 3.5, 4.5, 5.5]),\n",
              " [Text(0.5, 0, 'ArtBks'),\n",
              "  Text(1.5, 0, 'ChildBks'),\n",
              "  Text(2.5, 0, 'CookBks'),\n",
              "  Text(3.5, 0, 'DoItYBks'),\n",
              "  Text(4.5, 0, 'GeogBks'),\n",
              "  Text(5.5, 0, 'YouthBks')])"
            ]
          },
          "execution_count": 24,
          "metadata": {},
          "output_type": "execute_result"
        },
        {
          "data": {
            "image/png": "[encoded data removed]",
            "text/plain": [
              "<Figure size 432x288 with 2 Axes>"
            ]
          },
          "metadata": {
            "needs_background": "light"
          },
          "output_type": "display_data"
        }
      ],
      "source": [
        "rules_fp['antecedents_'] = rules_fp['antecedents'].apply(lambda a: ','.join(list(a)))\n",
        "rules_fp['consequents_'] = rules_fp['consequents'].apply(lambda a: ','.join(list(a)))\n",
        "# Transform the DataFrame of rules into a matrix using the confidence metric\n",
        "pivot = rules_fp[rules_fp['lhs items']>1].pivot(index = 'antecedents_', \n",
        "                    columns = 'consequents_', values= 'confidence')\n",
        "# Generate a heatmap with annotations \n",
        "sns.heatmap(pivot, annot = True)\n",
        "plt.title('Heat Map - For Confidence Metric')\n",
        "plt.yticks(rotation=0)\n",
        "plt.xticks(rotation=90)"
      ]
    },
    {
      "cell_type": "code",
      "execution_count": null,
      "id": "104ceca5",
      "metadata": {
        "id": "104ceca5",
        "outputId": "73c743be-f415-44de-ffaa-c1e3fa47dacc"
      },
      "outputs": [
        {
          "name": "stdout",
          "output_type": "stream",
          "text": [
            "(100, 9)\n"
          ]
        }
      ],
      "source": [
        "rules_fp_li = association_rules(frequent_itemsets_fp, metric=\"lift\", min_threshold=0.6)\n",
        "print(rules_fp_li.shape)"
      ]
    },
    {
      "cell_type": "code",
      "execution_count": null,
      "id": "bc83d32b",
      "metadata": {
        "id": "bc83d32b",
        "outputId": "7ff618a4-1d48-4747-938a-48befb581908"
      },
      "outputs": [
        {
          "data": {
            "text/html": [
              "<div>\n",
              "<style scoped>\n",
              "    .dataframe tbody tr th:only-of-type {\n",
              "        vertical-align: middle;\n",
              "    }\n",
              "\n",
              "    .dataframe tbody tr th {\n",
              "        vertical-align: top;\n",
              "    }\n",
              "\n",
              "    .dataframe thead th {\n",
              "        text-align: right;\n",
              "    }\n",
              "</style>\n",
              "<table border=\"1\" class=\"dataframe\">\n",
              "  <thead>\n",
              "    <tr style=\"text-align: right;\">\n",
              "      <th></th>\n",
              "      <th>antecedents</th>\n",
              "      <th>consequents</th>\n",
              "      <th>antecedent support</th>\n",
              "      <th>consequent support</th>\n",
              "      <th>support</th>\n",
              "      <th>confidence</th>\n",
              "      <th>lift</th>\n",
              "      <th>leverage</th>\n",
              "      <th>conviction</th>\n",
              "      <th>lhs items</th>\n",
              "    </tr>\n",
              "  </thead>\n",
              "  <tbody>\n",
              "    <tr>\n",
              "      <th>93</th>\n",
              "      <td>(ChildBks, ArtBks)</td>\n",
              "      <td>(GeogBks)</td>\n",
              "      <td>0.1625</td>\n",
              "      <td>0.2760</td>\n",
              "      <td>0.1020</td>\n",
              "      <td>0.627692</td>\n",
              "      <td>2.274247</td>\n",
              "      <td>0.057150</td>\n",
              "      <td>1.944628</td>\n",
              "      <td>2</td>\n",
              "    </tr>\n",
              "    <tr>\n",
              "      <th>82</th>\n",
              "      <td>(CookBks, DoItYBks)</td>\n",
              "      <td>(ArtBks)</td>\n",
              "      <td>0.1875</td>\n",
              "      <td>0.2410</td>\n",
              "      <td>0.1015</td>\n",
              "      <td>0.541333</td>\n",
              "      <td>2.246196</td>\n",
              "      <td>0.056313</td>\n",
              "      <td>1.654797</td>\n",
              "      <td>2</td>\n",
              "    </tr>\n",
              "    <tr>\n",
              "      <th>87</th>\n",
              "      <td>(CookBks, ArtBks)</td>\n",
              "      <td>(GeogBks)</td>\n",
              "      <td>0.1670</td>\n",
              "      <td>0.2760</td>\n",
              "      <td>0.1035</td>\n",
              "      <td>0.619760</td>\n",
              "      <td>2.245509</td>\n",
              "      <td>0.057408</td>\n",
              "      <td>1.904063</td>\n",
              "      <td>2</td>\n",
              "    </tr>\n",
              "    <tr>\n",
              "      <th>86</th>\n",
              "      <td>(CookBks, GeogBks)</td>\n",
              "      <td>(ArtBks)</td>\n",
              "      <td>0.1925</td>\n",
              "      <td>0.2410</td>\n",
              "      <td>0.1035</td>\n",
              "      <td>0.537662</td>\n",
              "      <td>2.230964</td>\n",
              "      <td>0.057107</td>\n",
              "      <td>1.641657</td>\n",
              "      <td>2</td>\n",
              "    </tr>\n",
              "    <tr>\n",
              "      <th>58</th>\n",
              "      <td>(ChildBks, CookBks)</td>\n",
              "      <td>(RefBks)</td>\n",
              "      <td>0.2560</td>\n",
              "      <td>0.2145</td>\n",
              "      <td>0.1225</td>\n",
              "      <td>0.478516</td>\n",
              "      <td>2.230842</td>\n",
              "      <td>0.067588</td>\n",
              "      <td>1.506277</td>\n",
              "      <td>2</td>\n",
              "    </tr>\n",
              "  </tbody>\n",
              "</table>\n",
              "</div>"
            ],
            "text/plain": [
              "            antecedents consequents  antecedent support  consequent support  \\\n",
              "93   (ChildBks, ArtBks)   (GeogBks)              0.1625              0.2760   \n",
              "82  (CookBks, DoItYBks)    (ArtBks)              0.1875              0.2410   \n",
              "87    (CookBks, ArtBks)   (GeogBks)              0.1670              0.2760   \n",
              "86   (CookBks, GeogBks)    (ArtBks)              0.1925              0.2410   \n",
              "58  (ChildBks, CookBks)    (RefBks)              0.2560              0.2145   \n",
              "\n",
              "    support  confidence      lift  leverage  conviction  lhs items  \n",
              "93   0.1020    0.627692  2.274247  0.057150    1.944628          2  \n",
              "82   0.1015    0.541333  2.246196  0.056313    1.654797          2  \n",
              "87   0.1035    0.619760  2.245509  0.057408    1.904063          2  \n",
              "86   0.1035    0.537662  2.230964  0.057107    1.641657          2  \n",
              "58   0.1225    0.478516  2.230842  0.067588    1.506277          2  "
            ]
          },
          "execution_count": 26,
          "metadata": {},
          "output_type": "execute_result"
        }
      ],
      "source": [
        "rules_fp_li['lhs items'] = rules_fp_li['antecedents'].apply(lambda x:len(x) )\n",
        "rules_fp_li[rules_fp_li['lhs items']>1].sort_values('lift', ascending=False).head()"
      ]
    },
    {
      "cell_type": "code",
      "execution_count": null,
      "id": "5ca1dab1",
      "metadata": {
        "id": "5ca1dab1",
        "outputId": "4409ffb8-dc9e-45a3-b099-556a71fd5c85"
      },
      "outputs": [
        {
          "data": {
            "text/plain": [
              "(array([0.5, 1.5, 2.5, 3.5, 4.5, 5.5]),\n",
              " [Text(0.5, 0, 'ArtBks'),\n",
              "  Text(1.5, 0, 'ChildBks'),\n",
              "  Text(2.5, 0, 'CookBks'),\n",
              "  Text(3.5, 0, 'DoItYBks'),\n",
              "  Text(4.5, 0, 'GeogBks'),\n",
              "  Text(5.5, 0, 'YouthBks')])"
            ]
          },
          "execution_count": 27,
          "metadata": {},
          "output_type": "execute_result"
        },
        {
          "data": {
            "image/png": "[encoded data removed]",
            "text/plain": [
              "<Figure size 432x288 with 2 Axes>"
            ]
          },
          "metadata": {
            "needs_background": "light"
          },
          "output_type": "display_data"
        }
      ],
      "source": [
        "rules_fp['antecedents_'] = rules_fp['antecedents'].apply(lambda a: ','.join(list(a)))\n",
        "rules_fp['consequents_'] = rules_fp['consequents'].apply(lambda a: ','.join(list(a)))\n",
        "# Transform the DataFrame of rules into a matrix using the confidence metric\n",
        "pivot = rules_fp[rules_fp['lhs items']>1].pivot(index = 'antecedents_', \n",
        "                    columns = 'consequents_', values= 'confidence')\n",
        "# Generate a heatmap with annotations \n",
        "sns.heatmap(pivot, annot = True)\n",
        "plt.title('Heat Map - For Confidence Metric')\n",
        "plt.yticks(rotation=0)\n",
        "plt.xticks(rotation=90)"
      ]
    },
    {
      "cell_type": "markdown",
      "id": "7bd65a89",
      "metadata": {
        "id": "7bd65a89"
      },
      "source": [
        "# My Movies Dataset"
      ]
    },
    {
      "cell_type": "code",
      "execution_count": null,
      "id": "042bdf16",
      "metadata": {
        "id": "042bdf16",
        "outputId": "acfb98f4-d02d-419c-d533-40d174de1fec"
      },
      "outputs": [
        {
          "data": {
            "text/html": [
              "<div>\n",
              "<style scoped>\n",
              "    .dataframe tbody tr th:only-of-type {\n",
              "        vertical-align: middle;\n",
              "    }\n",
              "\n",
              "    .dataframe tbody tr th {\n",
              "        vertical-align: top;\n",
              "    }\n",
              "\n",
              "    .dataframe thead th {\n",
              "        text-align: right;\n",
              "    }\n",
              "</style>\n",
              "<table border=\"1\" class=\"dataframe\">\n",
              "  <thead>\n",
              "    <tr style=\"text-align: right;\">\n",
              "      <th></th>\n",
              "      <th>V1</th>\n",
              "      <th>V2</th>\n",
              "      <th>V3</th>\n",
              "      <th>V4</th>\n",
              "      <th>V5</th>\n",
              "      <th>Sixth Sense</th>\n",
              "      <th>Gladiator</th>\n",
              "      <th>LOTR1</th>\n",
              "      <th>Harry Potter1</th>\n",
              "      <th>Patriot</th>\n",
              "      <th>LOTR2</th>\n",
              "      <th>Harry Potter2</th>\n",
              "      <th>LOTR</th>\n",
              "      <th>Braveheart</th>\n",
              "      <th>Green Mile</th>\n",
              "    </tr>\n",
              "  </thead>\n",
              "  <tbody>\n",
              "    <tr>\n",
              "      <th>0</th>\n",
              "      <td>Sixth Sense</td>\n",
              "      <td>LOTR1</td>\n",
              "      <td>Harry Potter1</td>\n",
              "      <td>Green Mile</td>\n",
              "      <td>LOTR2</td>\n",
              "      <td>1</td>\n",
              "      <td>0</td>\n",
              "      <td>1</td>\n",
              "      <td>1</td>\n",
              "      <td>0</td>\n",
              "      <td>1</td>\n",
              "      <td>0</td>\n",
              "      <td>0</td>\n",
              "      <td>0</td>\n",
              "      <td>1</td>\n",
              "    </tr>\n",
              "    <tr>\n",
              "      <th>1</th>\n",
              "      <td>Gladiator</td>\n",
              "      <td>Patriot</td>\n",
              "      <td>Braveheart</td>\n",
              "      <td>NaN</td>\n",
              "      <td>NaN</td>\n",
              "      <td>0</td>\n",
              "      <td>1</td>\n",
              "      <td>0</td>\n",
              "      <td>0</td>\n",
              "      <td>1</td>\n",
              "      <td>0</td>\n",
              "      <td>0</td>\n",
              "      <td>0</td>\n",
              "      <td>1</td>\n",
              "      <td>0</td>\n",
              "    </tr>\n",
              "    <tr>\n",
              "      <th>2</th>\n",
              "      <td>LOTR1</td>\n",
              "      <td>LOTR2</td>\n",
              "      <td>NaN</td>\n",
              "      <td>NaN</td>\n",
              "      <td>NaN</td>\n",
              "      <td>0</td>\n",
              "      <td>0</td>\n",
              "      <td>1</td>\n",
              "      <td>0</td>\n",
              "      <td>0</td>\n",
              "      <td>1</td>\n",
              "      <td>0</td>\n",
              "      <td>0</td>\n",
              "      <td>0</td>\n",
              "      <td>0</td>\n",
              "    </tr>\n",
              "    <tr>\n",
              "      <th>3</th>\n",
              "      <td>Gladiator</td>\n",
              "      <td>Patriot</td>\n",
              "      <td>Sixth Sense</td>\n",
              "      <td>NaN</td>\n",
              "      <td>NaN</td>\n",
              "      <td>1</td>\n",
              "      <td>1</td>\n",
              "      <td>0</td>\n",
              "      <td>0</td>\n",
              "      <td>1</td>\n",
              "      <td>0</td>\n",
              "      <td>0</td>\n",
              "      <td>0</td>\n",
              "      <td>0</td>\n",
              "      <td>0</td>\n",
              "    </tr>\n",
              "    <tr>\n",
              "      <th>4</th>\n",
              "      <td>Gladiator</td>\n",
              "      <td>Patriot</td>\n",
              "      <td>Sixth Sense</td>\n",
              "      <td>NaN</td>\n",
              "      <td>NaN</td>\n",
              "      <td>1</td>\n",
              "      <td>1</td>\n",
              "      <td>0</td>\n",
              "      <td>0</td>\n",
              "      <td>1</td>\n",
              "      <td>0</td>\n",
              "      <td>0</td>\n",
              "      <td>0</td>\n",
              "      <td>0</td>\n",
              "      <td>0</td>\n",
              "    </tr>\n",
              "  </tbody>\n",
              "</table>\n",
              "</div>"
            ],
            "text/plain": [
              "            V1       V2             V3          V4     V5  Sixth Sense  \\\n",
              "0  Sixth Sense    LOTR1  Harry Potter1  Green Mile  LOTR2            1   \n",
              "1    Gladiator  Patriot     Braveheart         NaN    NaN            0   \n",
              "2        LOTR1    LOTR2            NaN         NaN    NaN            0   \n",
              "3    Gladiator  Patriot    Sixth Sense         NaN    NaN            1   \n",
              "4    Gladiator  Patriot    Sixth Sense         NaN    NaN            1   \n",
              "\n",
              "   Gladiator  LOTR1  Harry Potter1  Patriot  LOTR2  Harry Potter2  LOTR  \\\n",
              "0          0      1              1        0      1              0     0   \n",
              "1          1      0              0        1      0              0     0   \n",
              "2          0      1              0        0      1              0     0   \n",
              "3          1      0              0        1      0              0     0   \n",
              "4          1      0              0        1      0              0     0   \n",
              "\n",
              "   Braveheart  Green Mile  \n",
              "0           0           1  \n",
              "1           1           0  \n",
              "2           0           0  \n",
              "3           0           0  \n",
              "4           0           0  "
            ]
          },
          "execution_count": 29,
          "metadata": {},
          "output_type": "execute_result"
        }
      ],
      "source": [
        "movie=pd.read_csv(\"https://excelr.s3.nl-ams.scw.cloud/DataScience-Assignments/Assignments/association%20rules/my_movies.csv\")\n",
        "movie.head()"
      ]
    },
    {
      "cell_type": "code",
      "execution_count": null,
      "id": "69b95835",
      "metadata": {
        "id": "69b95835",
        "outputId": "210547ed-9af8-43a6-f936-09217d436f82"
      },
      "outputs": [
        {
          "name": "stdout",
          "output_type": "stream",
          "text": [
            "Categorical variables:\n",
            "['V1', 'V2', 'V3', 'V4', 'V5']\n"
          ]
        }
      ],
      "source": [
        "# Get list of categorical variables\n",
        "s = (movie.dtypes == 'object')\n",
        "object_cols = list(s[s].index)\n",
        "\n",
        "print(\"Categorical variables:\")\n",
        "print(object_cols)"
      ]
    },
    {
      "cell_type": "code",
      "execution_count": null,
      "id": "e8675d12",
      "metadata": {
        "id": "e8675d12",
        "outputId": "5a0ac4ac-3727-4cfe-f07c-f9dbe8ea4b36"
      },
      "outputs": [
        {
          "data": {
            "text/html": [
              "<div>\n",
              "<style scoped>\n",
              "    .dataframe tbody tr th:only-of-type {\n",
              "        vertical-align: middle;\n",
              "    }\n",
              "\n",
              "    .dataframe tbody tr th {\n",
              "        vertical-align: top;\n",
              "    }\n",
              "\n",
              "    .dataframe thead th {\n",
              "        text-align: right;\n",
              "    }\n",
              "</style>\n",
              "<table border=\"1\" class=\"dataframe\">\n",
              "  <thead>\n",
              "    <tr style=\"text-align: right;\">\n",
              "      <th></th>\n",
              "      <th>Sixth Sense</th>\n",
              "      <th>Gladiator</th>\n",
              "      <th>LOTR1</th>\n",
              "      <th>Harry Potter1</th>\n",
              "      <th>Patriot</th>\n",
              "      <th>LOTR2</th>\n",
              "      <th>Harry Potter2</th>\n",
              "      <th>LOTR</th>\n",
              "      <th>Braveheart</th>\n",
              "      <th>Green Mile</th>\n",
              "    </tr>\n",
              "  </thead>\n",
              "  <tbody>\n",
              "    <tr>\n",
              "      <th>0</th>\n",
              "      <td>1</td>\n",
              "      <td>0</td>\n",
              "      <td>1</td>\n",
              "      <td>1</td>\n",
              "      <td>0</td>\n",
              "      <td>1</td>\n",
              "      <td>0</td>\n",
              "      <td>0</td>\n",
              "      <td>0</td>\n",
              "      <td>1</td>\n",
              "    </tr>\n",
              "    <tr>\n",
              "      <th>1</th>\n",
              "      <td>0</td>\n",
              "      <td>1</td>\n",
              "      <td>0</td>\n",
              "      <td>0</td>\n",
              "      <td>1</td>\n",
              "      <td>0</td>\n",
              "      <td>0</td>\n",
              "      <td>0</td>\n",
              "      <td>1</td>\n",
              "      <td>0</td>\n",
              "    </tr>\n",
              "    <tr>\n",
              "      <th>2</th>\n",
              "      <td>0</td>\n",
              "      <td>0</td>\n",
              "      <td>1</td>\n",
              "      <td>0</td>\n",
              "      <td>0</td>\n",
              "      <td>1</td>\n",
              "      <td>0</td>\n",
              "      <td>0</td>\n",
              "      <td>0</td>\n",
              "      <td>0</td>\n",
              "    </tr>\n",
              "    <tr>\n",
              "      <th>3</th>\n",
              "      <td>1</td>\n",
              "      <td>1</td>\n",
              "      <td>0</td>\n",
              "      <td>0</td>\n",
              "      <td>1</td>\n",
              "      <td>0</td>\n",
              "      <td>0</td>\n",
              "      <td>0</td>\n",
              "      <td>0</td>\n",
              "      <td>0</td>\n",
              "    </tr>\n",
              "    <tr>\n",
              "      <th>4</th>\n",
              "      <td>1</td>\n",
              "      <td>1</td>\n",
              "      <td>0</td>\n",
              "      <td>0</td>\n",
              "      <td>1</td>\n",
              "      <td>0</td>\n",
              "      <td>0</td>\n",
              "      <td>0</td>\n",
              "      <td>0</td>\n",
              "      <td>0</td>\n",
              "    </tr>\n",
              "  </tbody>\n",
              "</table>\n",
              "</div>"
            ],
            "text/plain": [
              "   Sixth Sense  Gladiator  LOTR1  Harry Potter1  Patriot  LOTR2  \\\n",
              "0            1          0      1              1        0      1   \n",
              "1            0          1      0              0        1      0   \n",
              "2            0          0      1              0        0      1   \n",
              "3            1          1      0              0        1      0   \n",
              "4            1          1      0              0        1      0   \n",
              "\n",
              "   Harry Potter2  LOTR  Braveheart  Green Mile  \n",
              "0              0     0           0           1  \n",
              "1              0     0           1           0  \n",
              "2              0     0           0           0  \n",
              "3              0     0           0           0  \n",
              "4              0     0           0           0  "
            ]
          },
          "execution_count": 31,
          "metadata": {},
          "output_type": "execute_result"
        }
      ],
      "source": [
        "num_movie = movie.iloc[:,5:15]\n",
        "num_movie.head()"
      ]
    },
    {
      "cell_type": "markdown",
      "id": "f22b0a9f",
      "metadata": {
        "id": "f22b0a9f"
      },
      "source": [
        "# Apriori Algorithm"
      ]
    },
    {
      "cell_type": "code",
      "execution_count": null,
      "id": "a6e2d062",
      "metadata": {
        "id": "a6e2d062",
        "outputId": "2526bd09-3156-4f3c-c059-95b85eceb637"
      },
      "outputs": [
        {
          "name": "stdout",
          "output_type": "stream",
          "text": [
            "Processing 27 combinations | Sampling itemset size 3\n",
            "   support         itemsets\n",
            "0      0.6    (Sixth Sense)\n",
            "1      0.7      (Gladiator)\n",
            "2      0.2          (LOTR1)\n",
            "3      0.2  (Harry Potter1)\n",
            "4      0.6        (Patriot)\n"
          ]
        },
        {
          "name": "stderr",
          "output_type": "stream",
          "text": [
            "C:\\Anaconda\\lib\\site-packages\\mlxtend\\frequent_patterns\\fpcommon.py:111: DeprecationWarning: DataFrames with non-bool types result in worse computationalperformance and their support might be discontinued in the future.Please use a DataFrame with bool type\n",
            "  warnings.warn(\n"
          ]
        }
      ],
      "source": [
        "frequent_itemsets_ap = apriori(num_movie, min_support=0.15, use_colnames=True,verbose=1)\n",
        "print(frequent_itemsets_ap.head())"
      ]
    },
    {
      "cell_type": "code",
      "execution_count": null,
      "id": "548554f3",
      "metadata": {
        "id": "548554f3",
        "outputId": "1dde2624-1a2c-4824-a91a-1b0fa7165f88"
      },
      "outputs": [
        {
          "data": {
            "text/plain": [
              "(13, 2)"
            ]
          },
          "execution_count": 33,
          "metadata": {},
          "output_type": "execute_result"
        }
      ],
      "source": [
        "frequent_itemsets_ap.sort_values(\"support\", ascending = False).shape"
      ]
    },
    {
      "cell_type": "code",
      "execution_count": null,
      "id": "7f386580",
      "metadata": {
        "id": "7f386580",
        "outputId": "91cb7490-8cd3-4f0b-ec53-3235a34813ab"
      },
      "outputs": [
        {
          "name": "stdout",
          "output_type": "stream",
          "text": [
            "     antecedents    consequents  antecedent support  consequent support  \\\n",
            "0    (Gladiator)  (Sixth Sense)                 0.7                 0.6   \n",
            "1  (Sixth Sense)    (Gladiator)                 0.6                 0.7   \n",
            "2      (Patriot)  (Sixth Sense)                 0.6                 0.6   \n",
            "3  (Sixth Sense)      (Patriot)                 0.6                 0.6   \n",
            "4   (Green Mile)  (Sixth Sense)                 0.2                 0.6   \n",
            "\n",
            "   support  confidence      lift  leverage  conviction  \n",
            "0      0.5    0.714286  1.190476      0.08         1.4  \n",
            "1      0.5    0.833333  1.190476      0.08         1.8  \n",
            "2      0.4    0.666667  1.111111      0.04         1.2  \n",
            "3      0.4    0.666667  1.111111      0.04         1.2  \n",
            "4      0.2    1.000000  1.666667      0.08         inf  \n"
          ]
        }
      ],
      "source": [
        "rules_ap = association_rules(frequent_itemsets_ap, metric=\"confidence\", min_threshold=0.1)\n",
        "print(rules_ap.head())"
      ]
    },
    {
      "cell_type": "code",
      "execution_count": null,
      "id": "fa7ca927",
      "metadata": {
        "id": "fa7ca927",
        "outputId": "85238ef9-17d8-41c2-bcff-27876e75a124"
      },
      "outputs": [
        {
          "data": {
            "text/plain": [
              "(15, 9)"
            ]
          },
          "execution_count": 35,
          "metadata": {},
          "output_type": "execute_result"
        }
      ],
      "source": [
        "rules_ap[(rules_ap.support > 0.015) & (rules_ap.confidence > 0.4)].sort_values(\"confidence\", ascending = False).shape"
      ]
    },
    {
      "cell_type": "code",
      "execution_count": null,
      "id": "e25e777d",
      "metadata": {
        "id": "e25e777d",
        "outputId": "76158f20-4a20-4115-d44e-15cb3da14480"
      },
      "outputs": [
        {
          "data": {
            "text/html": [
              "<div>\n",
              "<style scoped>\n",
              "    .dataframe tbody tr th:only-of-type {\n",
              "        vertical-align: middle;\n",
              "    }\n",
              "\n",
              "    .dataframe tbody tr th {\n",
              "        vertical-align: top;\n",
              "    }\n",
              "\n",
              "    .dataframe thead th {\n",
              "        text-align: right;\n",
              "    }\n",
              "</style>\n",
              "<table border=\"1\" class=\"dataframe\">\n",
              "  <thead>\n",
              "    <tr style=\"text-align: right;\">\n",
              "      <th></th>\n",
              "      <th>antecedents</th>\n",
              "      <th>consequents</th>\n",
              "      <th>antecedent support</th>\n",
              "      <th>consequent support</th>\n",
              "      <th>support</th>\n",
              "      <th>confidence</th>\n",
              "      <th>lift</th>\n",
              "      <th>leverage</th>\n",
              "      <th>conviction</th>\n",
              "      <th>lhs items</th>\n",
              "    </tr>\n",
              "  </thead>\n",
              "  <tbody>\n",
              "    <tr>\n",
              "      <th>11</th>\n",
              "      <td>(Patriot, Sixth Sense)</td>\n",
              "      <td>(Gladiator)</td>\n",
              "      <td>0.4</td>\n",
              "      <td>0.7</td>\n",
              "      <td>0.4</td>\n",
              "      <td>1.000000</td>\n",
              "      <td>1.428571</td>\n",
              "      <td>0.12</td>\n",
              "      <td>inf</td>\n",
              "      <td>2</td>\n",
              "    </tr>\n",
              "    <tr>\n",
              "      <th>12</th>\n",
              "      <td>(Gladiator, Sixth Sense)</td>\n",
              "      <td>(Patriot)</td>\n",
              "      <td>0.5</td>\n",
              "      <td>0.6</td>\n",
              "      <td>0.4</td>\n",
              "      <td>0.800000</td>\n",
              "      <td>1.333333</td>\n",
              "      <td>0.10</td>\n",
              "      <td>2.0</td>\n",
              "      <td>2</td>\n",
              "    </tr>\n",
              "    <tr>\n",
              "      <th>10</th>\n",
              "      <td>(Patriot, Gladiator)</td>\n",
              "      <td>(Sixth Sense)</td>\n",
              "      <td>0.6</td>\n",
              "      <td>0.6</td>\n",
              "      <td>0.4</td>\n",
              "      <td>0.666667</td>\n",
              "      <td>1.111111</td>\n",
              "      <td>0.04</td>\n",
              "      <td>1.2</td>\n",
              "      <td>2</td>\n",
              "    </tr>\n",
              "  </tbody>\n",
              "</table>\n",
              "</div>"
            ],
            "text/plain": [
              "                 antecedents    consequents  antecedent support  \\\n",
              "11    (Patriot, Sixth Sense)    (Gladiator)                 0.4   \n",
              "12  (Gladiator, Sixth Sense)      (Patriot)                 0.5   \n",
              "10      (Patriot, Gladiator)  (Sixth Sense)                 0.6   \n",
              "\n",
              "    consequent support  support  confidence      lift  leverage  conviction  \\\n",
              "11                 0.7      0.4    1.000000  1.428571      0.12         inf   \n",
              "12                 0.6      0.4    0.800000  1.333333      0.10         2.0   \n",
              "10                 0.6      0.4    0.666667  1.111111      0.04         1.2   \n",
              "\n",
              "    lhs items  \n",
              "11          2  \n",
              "12          2  \n",
              "10          2  "
            ]
          },
          "execution_count": 36,
          "metadata": {},
          "output_type": "execute_result"
        }
      ],
      "source": [
        "rules_ap['lhs items'] = rules_ap['antecedents'].apply(lambda x:len(x) )\n",
        "rules_ap[rules_ap['lhs items']>1].sort_values('lift', ascending=False).head()"
      ]
    },
    {
      "cell_type": "code",
      "execution_count": null,
      "id": "8b209d74",
      "metadata": {
        "id": "8b209d74",
        "outputId": "0434b0b1-0d71-4870-cba9-3b313fff7e43"
      },
      "outputs": [
        {
          "data": {
            "text/plain": [
              "(array([0.5, 1.5, 2.5]),\n",
              " [Text(0.5, 0, 'Gladiator'),\n",
              "  Text(1.5, 0, 'Patriot'),\n",
              "  Text(2.5, 0, 'Sixth Sense')])"
            ]
          },
          "execution_count": 37,
          "metadata": {},
          "output_type": "execute_result"
        },
        {
          "data": {
            "image/png": "[encoded data removed]",
            "text/plain": [
              "<Figure size 432x288 with 2 Axes>"
            ]
          },
          "metadata": {
            "needs_background": "light"
          },
          "output_type": "display_data"
        }
      ],
      "source": [
        "rules_ap['antecedents_'] = rules_ap['antecedents'].apply(lambda a: ','.join(list(a)))\n",
        "rules_ap['consequents_'] = rules_ap['consequents'].apply(lambda a: ','.join(list(a)))\n",
        "# Transform the DataFrame of rules into a matrix using the confidence metric\n",
        "pivot = rules_ap[rules_ap['lhs items']>1].pivot(index = 'antecedents_', \n",
        "                    columns = 'consequents_', values= 'confidence')\n",
        "# Generate a heatmap with annotations \n",
        "sns.heatmap(pivot, annot = True)\n",
        "plt.title('Heat Map - For Confidence Metric')\n",
        "plt.yticks(rotation=0)\n",
        "plt.xticks(rotation=90)"
      ]
    },
    {
      "cell_type": "code",
      "execution_count": null,
      "id": "a328eedb",
      "metadata": {
        "id": "a328eedb",
        "outputId": "4e5d0200-c1ae-44ba-b51d-4052115cd797"
      },
      "outputs": [
        {
          "name": "stdout",
          "output_type": "stream",
          "text": [
            "(16, 9)\n"
          ]
        }
      ],
      "source": [
        "rules_ap_li = association_rules(frequent_itemsets_ap, metric=\"lift\", min_threshold=0.8)\n",
        "print(rules_ap_li.shape)"
      ]
    },
    {
      "cell_type": "code",
      "execution_count": null,
      "id": "5bff0fa1",
      "metadata": {
        "id": "5bff0fa1",
        "outputId": "085b7f56-897d-4b03-8575-5c00ab396976"
      },
      "outputs": [
        {
          "data": {
            "text/html": [
              "<div>\n",
              "<style scoped>\n",
              "    .dataframe tbody tr th:only-of-type {\n",
              "        vertical-align: middle;\n",
              "    }\n",
              "\n",
              "    .dataframe tbody tr th {\n",
              "        vertical-align: top;\n",
              "    }\n",
              "\n",
              "    .dataframe thead th {\n",
              "        text-align: right;\n",
              "    }\n",
              "</style>\n",
              "<table border=\"1\" class=\"dataframe\">\n",
              "  <thead>\n",
              "    <tr style=\"text-align: right;\">\n",
              "      <th></th>\n",
              "      <th>antecedents</th>\n",
              "      <th>consequents</th>\n",
              "      <th>antecedent support</th>\n",
              "      <th>consequent support</th>\n",
              "      <th>support</th>\n",
              "      <th>confidence</th>\n",
              "      <th>lift</th>\n",
              "      <th>leverage</th>\n",
              "      <th>conviction</th>\n",
              "      <th>lhs items</th>\n",
              "    </tr>\n",
              "  </thead>\n",
              "  <tbody>\n",
              "    <tr>\n",
              "      <th>11</th>\n",
              "      <td>(Patriot, Sixth Sense)</td>\n",
              "      <td>(Gladiator)</td>\n",
              "      <td>0.4</td>\n",
              "      <td>0.7</td>\n",
              "      <td>0.4</td>\n",
              "      <td>1.000000</td>\n",
              "      <td>1.428571</td>\n",
              "      <td>0.12</td>\n",
              "      <td>inf</td>\n",
              "      <td>2</td>\n",
              "    </tr>\n",
              "    <tr>\n",
              "      <th>12</th>\n",
              "      <td>(Gladiator, Sixth Sense)</td>\n",
              "      <td>(Patriot)</td>\n",
              "      <td>0.5</td>\n",
              "      <td>0.6</td>\n",
              "      <td>0.4</td>\n",
              "      <td>0.800000</td>\n",
              "      <td>1.333333</td>\n",
              "      <td>0.10</td>\n",
              "      <td>2.0</td>\n",
              "      <td>2</td>\n",
              "    </tr>\n",
              "    <tr>\n",
              "      <th>10</th>\n",
              "      <td>(Patriot, Gladiator)</td>\n",
              "      <td>(Sixth Sense)</td>\n",
              "      <td>0.6</td>\n",
              "      <td>0.6</td>\n",
              "      <td>0.4</td>\n",
              "      <td>0.666667</td>\n",
              "      <td>1.111111</td>\n",
              "      <td>0.04</td>\n",
              "      <td>1.2</td>\n",
              "      <td>2</td>\n",
              "    </tr>\n",
              "  </tbody>\n",
              "</table>\n",
              "</div>"
            ],
            "text/plain": [
              "                 antecedents    consequents  antecedent support  \\\n",
              "11    (Patriot, Sixth Sense)    (Gladiator)                 0.4   \n",
              "12  (Gladiator, Sixth Sense)      (Patriot)                 0.5   \n",
              "10      (Patriot, Gladiator)  (Sixth Sense)                 0.6   \n",
              "\n",
              "    consequent support  support  confidence      lift  leverage  conviction  \\\n",
              "11                 0.7      0.4    1.000000  1.428571      0.12         inf   \n",
              "12                 0.6      0.4    0.800000  1.333333      0.10         2.0   \n",
              "10                 0.6      0.4    0.666667  1.111111      0.04         1.2   \n",
              "\n",
              "    lhs items  \n",
              "11          2  \n",
              "12          2  \n",
              "10          2  "
            ]
          },
          "execution_count": 39,
          "metadata": {},
          "output_type": "execute_result"
        }
      ],
      "source": [
        "rules_ap_li['lhs items'] = rules_ap_li['antecedents'].apply(lambda x:len(x) )\n",
        "rules_ap_li[rules_ap_li['lhs items']>1].sort_values('lift', ascending=False).head()"
      ]
    },
    {
      "cell_type": "code",
      "execution_count": null,
      "id": "2defeda6",
      "metadata": {
        "id": "2defeda6",
        "outputId": "5c0f002c-d5bb-4c09-f3c1-b72275207da2"
      },
      "outputs": [
        {
          "data": {
            "text/plain": [
              "(array([0.5, 1.5, 2.5]),\n",
              " [Text(0.5, 0, 'Gladiator'),\n",
              "  Text(1.5, 0, 'Patriot'),\n",
              "  Text(2.5, 0, 'Sixth Sense')])"
            ]
          },
          "execution_count": 40,
          "metadata": {},
          "output_type": "execute_result"
        },
        {
          "data": {
            "image/png": "[encoded data removed]",
            "text/plain": [
              "<Figure size 432x288 with 2 Axes>"
            ]
          },
          "metadata": {
            "needs_background": "light"
          },
          "output_type": "display_data"
        }
      ],
      "source": [
        "rules_ap['antecedents_'] = rules_ap['antecedents'].apply(lambda a: ','.join(list(a)))\n",
        "rules_ap['consequents_'] = rules_ap['consequents'].apply(lambda a: ','.join(list(a)))\n",
        "# Transform the DataFrame of rules into a matrix using the confidence metric\n",
        "pivot = rules_ap[rules_ap['lhs items']>1].pivot(index = 'antecedents_', \n",
        "                    columns = 'consequents_', values= 'confidence')\n",
        "# Generate a heatmap with annotations \n",
        "sns.heatmap(pivot, annot = True)\n",
        "plt.title('Heat Map - For Confidence Metric')\n",
        "plt.yticks(rotation=0)\n",
        "plt.xticks(rotation=90)"
      ]
    },
    {
      "cell_type": "markdown",
      "id": "42acb173",
      "metadata": {
        "id": "42acb173"
      },
      "source": [
        "# FpGrowth Algorithm"
      ]
    },
    {
      "cell_type": "code",
      "execution_count": null,
      "id": "a8104d6f",
      "metadata": {
        "id": "a8104d6f",
        "outputId": "0ee6ac1f-a0d9-49c2-aa45-7bc3e44da86b"
      },
      "outputs": [
        {
          "name": "stdout",
          "output_type": "stream",
          "text": [
            "10 itemset(s) from tree conditioned on items ()\n",
            "3 itemset(s) from tree conditioned on items (Sixth Sense)\n",
            "3 itemset(s) from tree conditioned on items (Green Mile)\n",
            "3 itemset(s) from tree conditioned on items (LOTR2)\n",
            "7 itemset(s) from tree conditioned on items (Harry Potter1)\n",
            "15 itemset(s) from tree conditioned on items (LOTR1)\n",
            "0 itemset(s) from tree conditioned on items (Gladiator)\n",
            "1 itemset(s) from tree conditioned on items (Patriot)\n",
            "3 itemset(s) from tree conditioned on items (Braveheart)\n",
            "1 itemset(s) from tree conditioned on items (Harry Potter2)\n",
            "7 itemset(s) from tree conditioned on items (LOTR)\n",
            "(53, 2)\n"
          ]
        },
        {
          "name": "stderr",
          "output_type": "stream",
          "text": [
            "C:\\Anaconda\\lib\\site-packages\\mlxtend\\frequent_patterns\\fpcommon.py:111: DeprecationWarning: DataFrames with non-bool types result in worse computationalperformance and their support might be discontinued in the future.Please use a DataFrame with bool type\n",
            "  warnings.warn(\n"
          ]
        }
      ],
      "source": [
        "frequent_itemsets_fp=fpgrowth(num_movie, min_support=0.1, use_colnames=True,verbose=1)\n",
        "print(frequent_itemsets_fp.shape)"
      ]
    },
    {
      "cell_type": "code",
      "execution_count": null,
      "id": "24ad60ca",
      "metadata": {
        "id": "24ad60ca",
        "outputId": "7c742b87-ea0d-42a6-edac-3178ec827775"
      },
      "outputs": [
        {
          "data": {
            "text/html": [
              "<div>\n",
              "<style scoped>\n",
              "    .dataframe tbody tr th:only-of-type {\n",
              "        vertical-align: middle;\n",
              "    }\n",
              "\n",
              "    .dataframe tbody tr th {\n",
              "        vertical-align: top;\n",
              "    }\n",
              "\n",
              "    .dataframe thead th {\n",
              "        text-align: right;\n",
              "    }\n",
              "</style>\n",
              "<table border=\"1\" class=\"dataframe\">\n",
              "  <thead>\n",
              "    <tr style=\"text-align: right;\">\n",
              "      <th></th>\n",
              "      <th>support</th>\n",
              "      <th>itemsets</th>\n",
              "    </tr>\n",
              "  </thead>\n",
              "  <tbody>\n",
              "    <tr>\n",
              "      <th>5</th>\n",
              "      <td>0.7</td>\n",
              "      <td>(Gladiator)</td>\n",
              "    </tr>\n",
              "    <tr>\n",
              "      <th>0</th>\n",
              "      <td>0.6</td>\n",
              "      <td>(Sixth Sense)</td>\n",
              "    </tr>\n",
              "    <tr>\n",
              "      <th>41</th>\n",
              "      <td>0.6</td>\n",
              "      <td>(Patriot, Gladiator)</td>\n",
              "    </tr>\n",
              "    <tr>\n",
              "      <th>6</th>\n",
              "      <td>0.6</td>\n",
              "      <td>(Patriot)</td>\n",
              "    </tr>\n",
              "    <tr>\n",
              "      <th>10</th>\n",
              "      <td>0.5</td>\n",
              "      <td>(Gladiator, Sixth Sense)</td>\n",
              "    </tr>\n",
              "  </tbody>\n",
              "</table>\n",
              "</div>"
            ],
            "text/plain": [
              "    support                  itemsets\n",
              "5       0.7               (Gladiator)\n",
              "0       0.6             (Sixth Sense)\n",
              "41      0.6      (Patriot, Gladiator)\n",
              "6       0.6                 (Patriot)\n",
              "10      0.5  (Gladiator, Sixth Sense)"
            ]
          },
          "execution_count": 42,
          "metadata": {},
          "output_type": "execute_result"
        }
      ],
      "source": [
        "frequent_itemsets_fp.sort_values(\"support\", ascending = False).head()"
      ]
    },
    {
      "cell_type": "code",
      "execution_count": null,
      "id": "701aff94",
      "metadata": {
        "id": "701aff94",
        "outputId": "97a86571-4677-4ee5-e20e-4ac83e0a454d"
      },
      "outputs": [
        {
          "name": "stdout",
          "output_type": "stream",
          "text": [
            "                antecedents    consequents  antecedent support  \\\n",
            "0             (Sixth Sense)    (Gladiator)                 0.6   \n",
            "1    (Patriot, Sixth Sense)    (Gladiator)                 0.4   \n",
            "2  (Gladiator, Sixth Sense)      (Patriot)                 0.5   \n",
            "3              (Green Mile)  (Sixth Sense)                 0.2   \n",
            "4   (Gladiator, Green Mile)  (Sixth Sense)                 0.1   \n",
            "\n",
            "   consequent support  support  confidence      lift  leverage  conviction  \n",
            "0                 0.7      0.5    0.833333  1.190476      0.08         1.8  \n",
            "1                 0.7      0.4    1.000000  1.428571      0.12         inf  \n",
            "2                 0.6      0.4    0.800000  1.333333      0.10         2.0  \n",
            "3                 0.6      0.2    1.000000  1.666667      0.08         inf  \n",
            "4                 0.6      0.1    1.000000  1.666667      0.04         inf  \n"
          ]
        }
      ],
      "source": [
        "rules_fp = association_rules(frequent_itemsets_fp, metric=\"confidence\", min_threshold=0.8)\n",
        "print(rules_fp.head())"
      ]
    },
    {
      "cell_type": "code",
      "execution_count": null,
      "id": "e17f23eb",
      "metadata": {
        "id": "e17f23eb",
        "outputId": "6aa182d8-6fb1-4c7c-8149-a3fc8d735b40"
      },
      "outputs": [
        {
          "data": {
            "text/plain": [
              "(8, 9)"
            ]
          },
          "execution_count": 44,
          "metadata": {},
          "output_type": "execute_result"
        }
      ],
      "source": [
        "rules_fp[(rules_fp.support > 0.1) & (rules_fp.confidence > 0.4)].sort_values(\"confidence\", ascending = False).shape"
      ]
    },
    {
      "cell_type": "code",
      "execution_count": null,
      "id": "76fd6d96",
      "metadata": {
        "id": "76fd6d96",
        "outputId": "e991d8b1-54a1-4491-c5c1-cbf98a4aafd3"
      },
      "outputs": [
        {
          "data": {
            "text/html": [
              "<div>\n",
              "<style scoped>\n",
              "    .dataframe tbody tr th:only-of-type {\n",
              "        vertical-align: middle;\n",
              "    }\n",
              "\n",
              "    .dataframe tbody tr th {\n",
              "        vertical-align: top;\n",
              "    }\n",
              "\n",
              "    .dataframe thead th {\n",
              "        text-align: right;\n",
              "    }\n",
              "</style>\n",
              "<table border=\"1\" class=\"dataframe\">\n",
              "  <thead>\n",
              "    <tr style=\"text-align: right;\">\n",
              "      <th></th>\n",
              "      <th>antecedents</th>\n",
              "      <th>consequents</th>\n",
              "      <th>antecedent support</th>\n",
              "      <th>consequent support</th>\n",
              "      <th>support</th>\n",
              "      <th>confidence</th>\n",
              "      <th>lift</th>\n",
              "      <th>leverage</th>\n",
              "      <th>conviction</th>\n",
              "      <th>lhs items</th>\n",
              "    </tr>\n",
              "  </thead>\n",
              "  <tbody>\n",
              "    <tr>\n",
              "      <th>126</th>\n",
              "      <td>(LOTR, Sixth Sense)</td>\n",
              "      <td>(Gladiator, Green Mile)</td>\n",
              "      <td>0.1</td>\n",
              "      <td>0.1</td>\n",
              "      <td>0.1</td>\n",
              "      <td>1.0</td>\n",
              "      <td>10.0</td>\n",
              "      <td>0.09</td>\n",
              "      <td>inf</td>\n",
              "      <td>2</td>\n",
              "    </tr>\n",
              "    <tr>\n",
              "      <th>45</th>\n",
              "      <td>(LOTR1, Green Mile)</td>\n",
              "      <td>(Harry Potter1, LOTR2)</td>\n",
              "      <td>0.1</td>\n",
              "      <td>0.1</td>\n",
              "      <td>0.1</td>\n",
              "      <td>1.0</td>\n",
              "      <td>10.0</td>\n",
              "      <td>0.09</td>\n",
              "      <td>inf</td>\n",
              "      <td>2</td>\n",
              "    </tr>\n",
              "    <tr>\n",
              "      <th>85</th>\n",
              "      <td>(LOTR2, Green Mile, Sixth Sense)</td>\n",
              "      <td>(LOTR1, Harry Potter1)</td>\n",
              "      <td>0.1</td>\n",
              "      <td>0.1</td>\n",
              "      <td>0.1</td>\n",
              "      <td>1.0</td>\n",
              "      <td>10.0</td>\n",
              "      <td>0.09</td>\n",
              "      <td>inf</td>\n",
              "      <td>3</td>\n",
              "    </tr>\n",
              "    <tr>\n",
              "      <th>84</th>\n",
              "      <td>(LOTR2, Harry Potter1, Sixth Sense)</td>\n",
              "      <td>(LOTR1, Green Mile)</td>\n",
              "      <td>0.1</td>\n",
              "      <td>0.1</td>\n",
              "      <td>0.1</td>\n",
              "      <td>1.0</td>\n",
              "      <td>10.0</td>\n",
              "      <td>0.09</td>\n",
              "      <td>inf</td>\n",
              "      <td>3</td>\n",
              "    </tr>\n",
              "    <tr>\n",
              "      <th>83</th>\n",
              "      <td>(LOTR2, Harry Potter1, Green Mile)</td>\n",
              "      <td>(LOTR1, Sixth Sense)</td>\n",
              "      <td>0.1</td>\n",
              "      <td>0.1</td>\n",
              "      <td>0.1</td>\n",
              "      <td>1.0</td>\n",
              "      <td>10.0</td>\n",
              "      <td>0.09</td>\n",
              "      <td>inf</td>\n",
              "      <td>3</td>\n",
              "    </tr>\n",
              "  </tbody>\n",
              "</table>\n",
              "</div>"
            ],
            "text/plain": [
              "                             antecedents              consequents  \\\n",
              "126                  (LOTR, Sixth Sense)  (Gladiator, Green Mile)   \n",
              "45                   (LOTR1, Green Mile)   (Harry Potter1, LOTR2)   \n",
              "85      (LOTR2, Green Mile, Sixth Sense)   (LOTR1, Harry Potter1)   \n",
              "84   (LOTR2, Harry Potter1, Sixth Sense)      (LOTR1, Green Mile)   \n",
              "83    (LOTR2, Harry Potter1, Green Mile)     (LOTR1, Sixth Sense)   \n",
              "\n",
              "     antecedent support  consequent support  support  confidence  lift  \\\n",
              "126                 0.1                 0.1      0.1         1.0  10.0   \n",
              "45                  0.1                 0.1      0.1         1.0  10.0   \n",
              "85                  0.1                 0.1      0.1         1.0  10.0   \n",
              "84                  0.1                 0.1      0.1         1.0  10.0   \n",
              "83                  0.1                 0.1      0.1         1.0  10.0   \n",
              "\n",
              "     leverage  conviction  lhs items  \n",
              "126      0.09         inf          2  \n",
              "45       0.09         inf          2  \n",
              "85       0.09         inf          3  \n",
              "84       0.09         inf          3  \n",
              "83       0.09         inf          3  "
            ]
          },
          "execution_count": 45,
          "metadata": {},
          "output_type": "execute_result"
        }
      ],
      "source": [
        "rules_fp['lhs items'] = rules_fp['antecedents'].apply(lambda x:len(x) )\n",
        "rules_fp[rules_fp['lhs items']>1].sort_values('lift', ascending=False).head()"
      ]
    },
    {
      "cell_type": "code",
      "execution_count": null,
      "id": "e85cdb21",
      "metadata": {
        "id": "e85cdb21",
        "outputId": "a59cbf77-9483-4111-e9e0-d07f67e31b0d"
      },
      "outputs": [
        {
          "data": {
            "text/plain": [
              "(array([ 0.5,  2.5,  4.5,  6.5,  8.5, 10.5, 12.5, 14.5, 16.5, 18.5, 20.5,\n",
              "        22.5, 24.5, 26.5, 28.5]),\n",
              " [Text(0.5, 0, 'Gladiator'),\n",
              "  Text(2.5, 0, 'Gladiator,Sixth Sense'),\n",
              "  Text(4.5, 0, 'Green Mile,Sixth Sense'),\n",
              "  Text(6.5, 0, 'Harry Potter1,Green Mile'),\n",
              "  Text(8.5, 0, 'Harry Potter1,Sixth Sense'),\n",
              "  Text(10.5, 0, 'LOTR,Sixth Sense'),\n",
              "  Text(12.5, 0, 'LOTR1,Green Mile'),\n",
              "  Text(14.5, 0, 'LOTR1,Harry Potter1'),\n",
              "  Text(16.5, 0, 'LOTR1,Harry Potter1,Sixth Sense'),\n",
              "  Text(18.5, 0, 'LOTR1,LOTR2,Green Mile'),\n",
              "  Text(20.5, 0, 'LOTR1,Sixth Sense'),\n",
              "  Text(22.5, 0, 'LOTR2,Green Mile'),\n",
              "  Text(24.5, 0, 'LOTR2,Harry Potter1'),\n",
              "  Text(26.5, 0, 'LOTR2,Harry Potter1,Sixth Sense'),\n",
              "  Text(28.5, 0, 'Patriot')])"
            ]
          },
          "execution_count": 46,
          "metadata": {},
          "output_type": "execute_result"
        },
        {
          "data": {
            "image/png": "[encoded data removed]",
            "text/plain": [
              "<Figure size 432x288 with 2 Axes>"
            ]
          },
          "metadata": {
            "needs_background": "light"
          },
          "output_type": "display_data"
        }
      ],
      "source": [
        "rules_fp['antecedents_'] = rules_fp['antecedents'].apply(lambda a: ','.join(list(a)))\n",
        "rules_fp['consequents_'] = rules_fp['consequents'].apply(lambda a: ','.join(list(a)))\n",
        "# Transform the DataFrame of rules into a matrix using the confidence metric\n",
        "pivot = rules_fp[rules_fp['lhs items']>1].pivot(index = 'antecedents_', \n",
        "                    columns = 'consequents_', values= 'confidence')\n",
        "# Generate a heatmap with annotations \n",
        "sns.heatmap(pivot, annot = True)\n",
        "plt.title('Heat Map - For Confidence Metric')\n",
        "plt.yticks(rotation=0)\n",
        "plt.xticks(rotation=90)"
      ]
    },
    {
      "cell_type": "code",
      "execution_count": null,
      "id": "1fc83fc6",
      "metadata": {
        "id": "1fc83fc6",
        "outputId": "60eb944c-c866-49fe-f09c-b3fb20af0e4f"
      },
      "outputs": [
        {
          "name": "stdout",
          "output_type": "stream",
          "text": [
            "(246, 9)\n"
          ]
        }
      ],
      "source": [
        "rules_fp_li = association_rules(frequent_itemsets_fp, metric=\"lift\", min_threshold=0.8)\n",
        "print(rules_fp_li.shape)"
      ]
    },
    {
      "cell_type": "code",
      "execution_count": null,
      "id": "9e6d1193",
      "metadata": {
        "id": "9e6d1193",
        "outputId": "69c30f68-5889-47ec-a2ec-e8746867e6da"
      },
      "outputs": [
        {
          "data": {
            "text/html": [
              "<div>\n",
              "<style scoped>\n",
              "    .dataframe tbody tr th:only-of-type {\n",
              "        vertical-align: middle;\n",
              "    }\n",
              "\n",
              "    .dataframe tbody tr th {\n",
              "        vertical-align: top;\n",
              "    }\n",
              "\n",
              "    .dataframe thead th {\n",
              "        text-align: right;\n",
              "    }\n",
              "</style>\n",
              "<table border=\"1\" class=\"dataframe\">\n",
              "  <thead>\n",
              "    <tr style=\"text-align: right;\">\n",
              "      <th></th>\n",
              "      <th>antecedents</th>\n",
              "      <th>consequents</th>\n",
              "      <th>antecedent support</th>\n",
              "      <th>consequent support</th>\n",
              "      <th>support</th>\n",
              "      <th>confidence</th>\n",
              "      <th>lift</th>\n",
              "      <th>leverage</th>\n",
              "      <th>conviction</th>\n",
              "      <th>lhs items</th>\n",
              "    </tr>\n",
              "  </thead>\n",
              "  <tbody>\n",
              "    <tr>\n",
              "      <th>172</th>\n",
              "      <td>(LOTR2, Harry Potter1, Green Mile)</td>\n",
              "      <td>(LOTR1, Sixth Sense)</td>\n",
              "      <td>0.1</td>\n",
              "      <td>0.1</td>\n",
              "      <td>0.1</td>\n",
              "      <td>1.0</td>\n",
              "      <td>10.0</td>\n",
              "      <td>0.09</td>\n",
              "      <td>inf</td>\n",
              "      <td>3</td>\n",
              "    </tr>\n",
              "    <tr>\n",
              "      <th>58</th>\n",
              "      <td>(LOTR2, Sixth Sense)</td>\n",
              "      <td>(Harry Potter1, Green Mile)</td>\n",
              "      <td>0.1</td>\n",
              "      <td>0.1</td>\n",
              "      <td>0.1</td>\n",
              "      <td>1.0</td>\n",
              "      <td>10.0</td>\n",
              "      <td>0.09</td>\n",
              "      <td>inf</td>\n",
              "      <td>2</td>\n",
              "    </tr>\n",
              "    <tr>\n",
              "      <th>176</th>\n",
              "      <td>(LOTR1, Harry Potter1, Sixth Sense)</td>\n",
              "      <td>(LOTR2, Green Mile)</td>\n",
              "      <td>0.1</td>\n",
              "      <td>0.1</td>\n",
              "      <td>0.1</td>\n",
              "      <td>1.0</td>\n",
              "      <td>10.0</td>\n",
              "      <td>0.09</td>\n",
              "      <td>inf</td>\n",
              "      <td>3</td>\n",
              "    </tr>\n",
              "    <tr>\n",
              "      <th>175</th>\n",
              "      <td>(LOTR1, Harry Potter1, Green Mile)</td>\n",
              "      <td>(LOTR2, Sixth Sense)</td>\n",
              "      <td>0.1</td>\n",
              "      <td>0.1</td>\n",
              "      <td>0.1</td>\n",
              "      <td>1.0</td>\n",
              "      <td>10.0</td>\n",
              "      <td>0.09</td>\n",
              "      <td>inf</td>\n",
              "      <td>3</td>\n",
              "    </tr>\n",
              "    <tr>\n",
              "      <th>174</th>\n",
              "      <td>(LOTR2, Green Mile, Sixth Sense)</td>\n",
              "      <td>(LOTR1, Harry Potter1)</td>\n",
              "      <td>0.1</td>\n",
              "      <td>0.1</td>\n",
              "      <td>0.1</td>\n",
              "      <td>1.0</td>\n",
              "      <td>10.0</td>\n",
              "      <td>0.09</td>\n",
              "      <td>inf</td>\n",
              "      <td>3</td>\n",
              "    </tr>\n",
              "  </tbody>\n",
              "</table>\n",
              "</div>"
            ],
            "text/plain": [
              "                             antecedents                  consequents  \\\n",
              "172   (LOTR2, Harry Potter1, Green Mile)         (LOTR1, Sixth Sense)   \n",
              "58                  (LOTR2, Sixth Sense)  (Harry Potter1, Green Mile)   \n",
              "176  (LOTR1, Harry Potter1, Sixth Sense)          (LOTR2, Green Mile)   \n",
              "175   (LOTR1, Harry Potter1, Green Mile)         (LOTR2, Sixth Sense)   \n",
              "174     (LOTR2, Green Mile, Sixth Sense)       (LOTR1, Harry Potter1)   \n",
              "\n",
              "     antecedent support  consequent support  support  confidence  lift  \\\n",
              "172                 0.1                 0.1      0.1         1.0  10.0   \n",
              "58                  0.1                 0.1      0.1         1.0  10.0   \n",
              "176                 0.1                 0.1      0.1         1.0  10.0   \n",
              "175                 0.1                 0.1      0.1         1.0  10.0   \n",
              "174                 0.1                 0.1      0.1         1.0  10.0   \n",
              "\n",
              "     leverage  conviction  lhs items  \n",
              "172      0.09         inf          3  \n",
              "58       0.09         inf          2  \n",
              "176      0.09         inf          3  \n",
              "175      0.09         inf          3  \n",
              "174      0.09         inf          3  "
            ]
          },
          "execution_count": 48,
          "metadata": {},
          "output_type": "execute_result"
        }
      ],
      "source": [
        "rules_fp_li['lhs items'] = rules_fp_li['antecedents'].apply(lambda x:len(x) )\n",
        "rules_fp_li[rules_fp_li['lhs items']>1].sort_values('lift', ascending=False).head()"
      ]
    },
    {
      "cell_type": "code",
      "execution_count": null,
      "id": "7de0bbbf",
      "metadata": {
        "id": "7de0bbbf",
        "outputId": "bb8bd592-040e-41b2-ce09-10586e175a88"
      },
      "outputs": [
        {
          "data": {
            "text/plain": [
              "(array([ 0.5,  2.5,  4.5,  6.5,  8.5, 10.5, 12.5, 14.5, 16.5, 18.5, 20.5,\n",
              "        22.5, 24.5, 26.5, 28.5, 30.5, 32.5, 34.5]),\n",
              " [Text(0.5, 0, 'Braveheart'),\n",
              "  Text(2.5, 0, 'Gladiator,Green Mile'),\n",
              "  Text(4.5, 0, 'Gladiator,Sixth Sense'),\n",
              "  Text(6.5, 0, 'Green Mile,Sixth Sense'),\n",
              "  Text(8.5, 0, 'Harry Potter1,Green Mile'),\n",
              "  Text(10.5, 0, 'Harry Potter1,LOTR2'),\n",
              "  Text(12.5, 0, 'LOTR'),\n",
              "  Text(14.5, 0, 'LOTR,Sixth Sense'),\n",
              "  Text(16.5, 0, 'LOTR1,Green Mile'),\n",
              "  Text(18.5, 0, 'LOTR1,Harry Potter1'),\n",
              "  Text(20.5, 0, 'LOTR1,Harry Potter1,Sixth Sense'),\n",
              "  Text(22.5, 0, 'LOTR1,LOTR2,Green Mile'),\n",
              "  Text(24.5, 0, 'LOTR1,LOTR2,Sixth Sense'),\n",
              "  Text(26.5, 0, 'LOTR2'),\n",
              "  Text(28.5, 0, 'LOTR2,Green Mile,Sixth Sense'),\n",
              "  Text(30.5, 0, 'LOTR2,Harry Potter1,Green Mile'),\n",
              "  Text(32.5, 0, 'LOTR2,Sixth Sense'),\n",
              "  Text(34.5, 0, 'Sixth Sense')])"
            ]
          },
          "execution_count": 49,
          "metadata": {},
          "output_type": "execute_result"
        },
        {
          "data": {
            "image/png": "[encoded data removed]",
            "text/plain": [
              "<Figure size 432x288 with 2 Axes>"
            ]
          },
          "metadata": {
            "needs_background": "light"
          },
          "output_type": "display_data"
        }
      ],
      "source": [
        "# Replace frozen sets with strings\n",
        "rules_fp_li['antecedents_'] = rules_fp_li['antecedents'].apply(lambda a: ','.join(list(a)))\n",
        "rules_fp_li['consequents_'] = rules_fp_li['consequents'].apply(lambda a: ','.join(list(a)))\n",
        "# Transform the DataFrame of rules into a matrix using the lift metric\n",
        "pivot = rules_fp_li[rules_fp_li['lhs items']>1].pivot(index = 'antecedents_', \n",
        "                    columns = 'consequents_', values= 'lift')\n",
        "# Generate a heatmap with annotations on and the colorbar off\n",
        "sns.heatmap(pivot, annot = True)\n",
        "plt.title('Heat Map - For Lift Metric')\n",
        "plt.yticks(rotation=0)\n",
        "plt.xticks(rotation=90)"
      ]
    },
    {
      "cell_type": "code",
      "execution_count": null,
      "id": "15510945",
      "metadata": {
        "id": "15510945"
      },
      "outputs": [],
      "source": []
    }
  ],
  "metadata": {
    "kernelspec": {
      "display_name": "Python 3 (ipykernel)",
      "language": "python",
      "name": "python3"
    },
    "language_info": {
      "codemirror_mode": {
        "name": "ipython",
        "version": 3
      },
      "file_extension": ".py",
      "mimetype": "text/x-python",
      "name": "python",
      "nbconvert_exporter": "python",
      "pygments_lexer": "ipython3",
      "version": "3.9.12"
    },
    "colab": {
      "provenance": [],
      "include_colab_link": true
    }
  },
  "nbformat": 4,
  "nbformat_minor": 5
}